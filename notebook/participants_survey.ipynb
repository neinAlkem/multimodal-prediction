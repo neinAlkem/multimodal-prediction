{
 "cells": [
  {
   "cell_type": "code",
   "execution_count": 2,
   "id": "ca249cf4",
   "metadata": {},
   "outputs": [],
   "source": [
    "from pyspark.sql import SparkSession, types\n",
    "from pyspark.sql import functions as F\n",
    "import os\n",
    "from dotenv import load_dotenv\n",
    "import matplotlib.pyplot as plt\n",
    "import seaborn as sns\n",
    "import setuptools.dist\n",
    "import matplotlib.ticker as mticker"
   ]
  },
  {
   "cell_type": "code",
   "execution_count": 3,
   "id": "b12589ab",
   "metadata": {},
   "outputs": [
    {
     "name": "stdout",
     "output_type": "stream",
     "text": [
      ":: loading settings :: url = jar:file:/home/Bagas/spark/spark-3.5.5-bin-hadoop3/jars/ivy-2.5.1.jar!/org/apache/ivy/core/settings/ivysettings.xml\n"
     ]
    },
    {
     "name": "stderr",
     "output_type": "stream",
     "text": [
      "Ivy Default Cache set to: /home/Bagas/.ivy2/cache\n",
      "The jars for the packages stored in: /home/Bagas/.ivy2/jars\n",
      "com.google.cloud.spark#spark-bigquery-with-dependencies_2.12 added as a dependency\n",
      ":: resolving dependencies :: org.apache.spark#spark-submit-parent-15981aeb-3f27-4428-88d9-d610fde5a6ba;1.0\n",
      "\tconfs: [default]\n",
      "\tfound com.google.cloud.spark#spark-bigquery-with-dependencies_2.12;0.36.1 in central\n",
      ":: resolution report :: resolve 153ms :: artifacts dl 3ms\n",
      "\t:: modules in use:\n",
      "\tcom.google.cloud.spark#spark-bigquery-with-dependencies_2.12;0.36.1 from central in [default]\n",
      "\t---------------------------------------------------------------------\n",
      "\t|                  |            modules            ||   artifacts   |\n",
      "\t|       conf       | number| search|dwnlded|evicted|| number|dwnlded|\n",
      "\t---------------------------------------------------------------------\n",
      "\t|      default     |   1   |   0   |   0   |   0   ||   1   |   0   |\n",
      "\t---------------------------------------------------------------------\n",
      ":: retrieving :: org.apache.spark#spark-submit-parent-15981aeb-3f27-4428-88d9-d610fde5a6ba\n",
      "\tconfs: [default]\n",
      "\t0 artifacts copied, 1 already retrieved (0kB/4ms)\n",
      "25/05/28 07:22:35 WARN NativeCodeLoader: Unable to load native-hadoop library for your platform... using builtin-java classes where applicable\n",
      "Setting default log level to \"WARN\".\n",
      "To adjust logging level use sc.setLogLevel(newLevel). For SparkR, use setLogLevel(newLevel).\n"
     ]
    }
   ],
   "source": [
    "load_dotenv()\n",
    "\n",
    "spark = SparkSession \\\n",
    "    .builder \\\n",
    "    .master('spark://localhost:7077') \\\n",
    "    .config(\"spark.jars.packages\", \"com.google.cloud.spark:spark-bigquery-with-dependencies_2.12:0.36.1\") \\\n",
    "    .config(\"spark.jars\", \"https://storage.googleapis.com/hadoop-lib/gcs/gcs-connector-hadoop3-latest.jar\") \\\n",
    "    .config(\"spark.hadoop.fs.gs.impl\", \"com.google.cloud.hadoop.fs.gcs.GoogleHadoopFileSystem\") \\\n",
    "    .config(\"spark.hadoop.fs.AbstractFileSystem.gs.impl\", \"com.google.cloud.hadoop.fs.gcs.GoogleHadoopFS\") \\\n",
    "    .config(\"spark.hadoop.google.cloud.auth.service.account.enable\", \"true\") \\\n",
    "     .config(\"spark.hadoop.fs.gs.impl\", \"com.google.cloud.hadoop.fs.gcs.GoogleHadoopFileSystem\") \\\n",
    "     .config(\"spark.hadoop.fs.AbstractFileSystem.gs.impl\", \"com.google.cloud.hadoop.fs.gcs.GoogleHadoopFS\") \\\n",
    "     .config(\"spark.hadoop.google.cloud.auth.service.account.enable\", \"true\") \\\n",
    "     .config(\"spark.hadoop.google.cloud.auth.type\", \"SERVICE_ACCOUNT_JSON_KEYFILE\") \\\n",
    "     .config(\"spark.hadoop.fs.gs.project.id\", os.getenv('PROJECT_ID')) \\\n",
    "     .appName(\"participants_survey\") \\\n",
    "     .getOrCreate()"
   ]
  },
  {
   "cell_type": "code",
   "execution_count": 4,
   "id": "0c93e657",
   "metadata": {},
   "outputs": [
    {
     "data": {
      "text/html": [
       "\n",
       "            <div>\n",
       "                <p><b>SparkSession - in-memory</b></p>\n",
       "                \n",
       "        <div>\n",
       "            <p><b>SparkContext</b></p>\n",
       "\n",
       "            <p><a href=\"http://abd-vm.us-central1-c.c.project-big-data-461104.internal:4040\">Spark UI</a></p>\n",
       "\n",
       "            <dl>\n",
       "              <dt>Version</dt>\n",
       "                <dd><code>v3.5.5</code></dd>\n",
       "              <dt>Master</dt>\n",
       "                <dd><code>spark://localhost:7077</code></dd>\n",
       "              <dt>AppName</dt>\n",
       "                <dd><code>participants_survey</code></dd>\n",
       "            </dl>\n",
       "        </div>\n",
       "        \n",
       "            </div>\n",
       "        "
      ],
      "text/plain": [
       "<pyspark.sql.session.SparkSession at 0x761469ba3e00>"
      ]
     },
     "execution_count": 4,
     "metadata": {},
     "output_type": "execute_result"
    }
   ],
   "source": [
    "spark"
   ]
  },
  {
   "cell_type": "markdown",
   "id": "106e15ab",
   "metadata": {},
   "source": [
    "## Load and Set Schema "
   ]
  },
  {
   "cell_type": "code",
   "execution_count": 5,
   "id": "e1ff87f9",
   "metadata": {},
   "outputs": [
    {
     "name": "stderr",
     "output_type": "stream",
     "text": [
      "                                                                                \r"
     ]
    }
   ],
   "source": [
    "# Load Data\n",
    "base_dir = \"gs://project-abd/raw/\"\n",
    "participant_info_dir = os.path.join(base_dir, \"participant_class_info/\")\n",
    "survey_dir = os.path.join(base_dir, \"survey/\")\n",
    "\n",
    "try:\n",
    "    df_student = spark.read.csv(os.path.join(participant_info_dir, \"student.csv\"),\n",
    "                                header=True,\n",
    "                                inferSchema=True)\n",
    "    df_class = spark.read.csv(os.path.join(participant_info_dir, \"class_table.csv\"),\n",
    "                                header=True,\n",
    "                                inferSchema=True)\n",
    "    df_survey = spark.read.csv(os.path.join(survey_dir, \"student_survey.csv\"),\n",
    "                                header=True,\n",
    "                                inferSchema=True)\n",
    "except Exception as e:\n",
    "    print(f'Error reading data from GCS : {e}')"
   ]
  },
  {
   "cell_type": "code",
   "execution_count": null,
   "id": "0a821065",
   "metadata": {},
   "outputs": [],
   "source": [
    "# Schema for student_info dataset\n",
    "student_info_schema = types.StructType([\n",
    "     types.StructField('Pid', types.IntegerType(), True),\n",
    "     types.StructField('Gender', types.StringType(), True),\n",
    "     types.StructField('Age', types.IntegerType(), True),\n",
    "     types.StructField('Form Room', types.StringType(), True),\n",
    "     types.StructField('Math Room', types.StringType(), True),\n",
    "     types.StructField('Language Room', types.StringType(), True),\n",
    "     types.StructField('What is your general feeling in the classroom? - 1', types.IntegerType(), True),\n",
    "     types.StructField(\"When I am engaged in class: - I usually don't feel too hot or too cold.\", types.StringType(), True),\n",
    "     types.StructField('When I am engaged in class: - I could get distracted when the room is too hot or too cold.', types.StringType(), True),\n",
    " ])\n",
    "for field in student_info_schema.fields:\n",
    "     df_student = df_student.withColumn(field.name, F.col(f\"`{field.name}`\").cast(field.dataType))\n",
    "\n",
    "df_student = df_student.withColumnRenamed(\"What is your general feeling in the classroom? - 1\", \"General Feeling in Classroom\")\n",
    "df_student = df_student.withColumnRenamed(\"When I am engaged in class: - I usually don't feel too hot or too cold.\", \"I usually don't feel too hot or cold in class (Engaged)\")\n",
    "df_student = df_student.withColumnRenamed(\"When I am engaged in class: - I could get distracted when the room is too hot or too cold.\", \"Distracted by Temperature (Engaged)\")"
   ]
  },
  {
   "cell_type": "code",
   "execution_count": 14,
   "id": "41a8c026",
   "metadata": {},
   "outputs": [],
   "source": [
    "# Schema for class_table dataset\n",
    "class_schema = types.StructType([\n",
    "     types.StructField('Class_id', types.IntegerType(), True),\n",
    "     types.StructField('Room', types.StringType(), True),\n",
    "     types.StructField('Start_time', types.TimestampType(), True),\n",
    "     types.StructField('Finish_time', types.TimestampType(), True),\n",
    "     types.StructField('Class_len', types.StringType(), True),\n",
    "     types.StructField('Week', types.IntegerType(), True),\n",
    "     types.StructField('Weekday', types.IntegerType(), True),\n",
    "     types.StructField(\"Class_no\", types.IntegerType(), True),\n",
    "     types.StructField('Subject', types.StringType(), True),\n",
    "     types.StructField('is_Form', types.StringType(), True),\n",
    " ])\n",
    "for field in class_schema.fields:\n",
    "     df_class = df_class.withColumn(field.name, F.col(f\"`{field.name}`\").cast(field.dataType))\n"
   ]
  },
  {
   "cell_type": "code",
   "execution_count": 19,
   "id": "4e088ba6",
   "metadata": {},
   "outputs": [],
   "source": [
    "# Schema for student_survey dataset\n",
    "survey_schema = types.StructType([\n",
    "     types.StructField('Pid', types.IntegerType(), True),\n",
    "     types.StructField('Week', types.IntegerType(), True),\n",
    "     types.StructField('Weekday', types.IntegerType(), True),\n",
    "     types.StructField('Time', types.TimestampType(), True),\n",
    "     types.StructField('Thermal_sensation', types.IntegerType(), True),\n",
    "     types.StructField('Thermal_preference', types.StringType(), True),\n",
    "     types.StructField('Clothing', types.StringType(), True),\n",
    "     types.StructField(\"Loc_x\", types.IntegerType(), True),\n",
    "     types.StructField('Loc_y', types.IntegerType(), True),\n",
    "     types.StructField('Engage_1', types.StringType(), True),\n",
    "     types.StructField('Engage_2', types.StringType(), True),\n",
    "     types.StructField('Engage_3', types.StringType(), True),\n",
    "     types.StructField('Engage_4', types.StringType(), True),\n",
    "     types.StructField('Engage_5', types.StringType(), True),\n",
    "     types.StructField('Arousal', types.IntegerType(), True),\n",
    "     types.StructField('Valence', types.IntegerType(), True),\n",
    "     types.StructField('Confidence_level', types.IntegerType(), True),\n",
    " ])\n",
    "for field in survey_schema.fields:\n",
    "     df_survey = df_survey.withColumn(field.name, F.col(f\"`{field.name}`\").cast(field.dataType))"
   ]
  },
  {
   "cell_type": "markdown",
   "id": "daf98b30",
   "metadata": {},
   "source": [
    "## EDA for Student Info Dataset"
   ]
  },
  {
   "cell_type": "code",
   "execution_count": 9,
   "id": "2f5ab7a9",
   "metadata": {},
   "outputs": [
    {
     "name": "stdout",
     "output_type": "stream",
     "text": [
      "Student Info Total Data\n"
     ]
    },
    {
     "name": "stderr",
     "output_type": "stream",
     "text": [
      "                                                                                \r"
     ]
    },
    {
     "data": {
      "text/plain": [
       "23"
      ]
     },
     "execution_count": 9,
     "metadata": {},
     "output_type": "execute_result"
    }
   ],
   "source": [
    "#Check Student Info Total Data\n",
    "print('Student Info Total Data')\n",
    "df_student.count()"
   ]
  },
  {
   "cell_type": "code",
   "execution_count": 20,
   "id": "5e5b82f7",
   "metadata": {},
   "outputs": [
    {
     "ename": "AnalysisException",
     "evalue": "Syntax error in attribute name: When I am engaged in class: - I usually don't feel too hot or too cold..",
     "output_type": "error",
     "traceback": [
      "\u001b[31m---------------------------------------------------------------------------\u001b[39m",
      "\u001b[31mAnalysisException\u001b[39m                         Traceback (most recent call last)",
      "\u001b[36mCell\u001b[39m\u001b[36m \u001b[39m\u001b[32mIn[20]\u001b[39m\u001b[32m, line 1\u001b[39m\n\u001b[32m----> \u001b[39m\u001b[32m1\u001b[39m null_value = df_student.select([F.sum(\u001b[43mF\u001b[49m\u001b[43m.\u001b[49m\u001b[43mcol\u001b[49m\u001b[43m(\u001b[49m\u001b[43mcols\u001b[49m\u001b[43m)\u001b[49m.isNull().cast(\u001b[33m'\u001b[39m\u001b[33mint\u001b[39m\u001b[33m'\u001b[39m)).alias(cols) \u001b[38;5;28;01mfor\u001b[39;00m cols \u001b[38;5;129;01min\u001b[39;00m df_student.columns])\n\u001b[32m      2\u001b[39m null_value.show()\n",
      "\u001b[36mFile \u001b[39m\u001b[32m~/spark/spark-3.5.5-bin-hadoop3/python/pyspark/sql/utils.py:174\u001b[39m, in \u001b[36mtry_remote_functions.<locals>.wrapped\u001b[39m\u001b[34m(*args, **kwargs)\u001b[39m\n\u001b[32m    172\u001b[39m     \u001b[38;5;28;01mreturn\u001b[39;00m \u001b[38;5;28mgetattr\u001b[39m(functions, f.\u001b[34m__name__\u001b[39m)(*args, **kwargs)\n\u001b[32m    173\u001b[39m \u001b[38;5;28;01melse\u001b[39;00m:\n\u001b[32m--> \u001b[39m\u001b[32m174\u001b[39m     \u001b[38;5;28;01mreturn\u001b[39;00m \u001b[43mf\u001b[49m\u001b[43m(\u001b[49m\u001b[43m*\u001b[49m\u001b[43margs\u001b[49m\u001b[43m,\u001b[49m\u001b[43m \u001b[49m\u001b[43m*\u001b[49m\u001b[43m*\u001b[49m\u001b[43mkwargs\u001b[49m\u001b[43m)\u001b[49m\n",
      "\u001b[36mFile \u001b[39m\u001b[32m~/spark/spark-3.5.5-bin-hadoop3/python/pyspark/sql/functions.py:223\u001b[39m, in \u001b[36mcol\u001b[39m\u001b[34m(col)\u001b[39m\n\u001b[32m    196\u001b[39m \u001b[38;5;129m@try_remote_functions\u001b[39m\n\u001b[32m    197\u001b[39m \u001b[38;5;28;01mdef\u001b[39;00m\u001b[38;5;250m \u001b[39m\u001b[34mcol\u001b[39m(col: \u001b[38;5;28mstr\u001b[39m) -> Column:\n\u001b[32m    198\u001b[39m \u001b[38;5;250m    \u001b[39m\u001b[33;03m\"\"\"\u001b[39;00m\n\u001b[32m    199\u001b[39m \u001b[33;03m    Returns a :class:`~pyspark.sql.Column` based on the given column name.\u001b[39;00m\n\u001b[32m    200\u001b[39m \n\u001b[32m   (...)\u001b[39m\u001b[32m    221\u001b[39m \u001b[33;03m    Column<'x'>\u001b[39;00m\n\u001b[32m    222\u001b[39m \u001b[33;03m    \"\"\"\u001b[39;00m\n\u001b[32m--> \u001b[39m\u001b[32m223\u001b[39m     \u001b[38;5;28;01mreturn\u001b[39;00m \u001b[43m_invoke_function\u001b[49m\u001b[43m(\u001b[49m\u001b[33;43m\"\u001b[39;49m\u001b[33;43mcol\u001b[39;49m\u001b[33;43m\"\u001b[39;49m\u001b[43m,\u001b[49m\u001b[43m \u001b[49m\u001b[43mcol\u001b[49m\u001b[43m)\u001b[49m\n",
      "\u001b[36mFile \u001b[39m\u001b[32m~/spark/spark-3.5.5-bin-hadoop3/python/pyspark/sql/functions.py:97\u001b[39m, in \u001b[36m_invoke_function\u001b[39m\u001b[34m(name, *args)\u001b[39m\n\u001b[32m     95\u001b[39m \u001b[38;5;28;01massert\u001b[39;00m SparkContext._active_spark_context \u001b[38;5;129;01mis\u001b[39;00m \u001b[38;5;129;01mnot\u001b[39;00m \u001b[38;5;28;01mNone\u001b[39;00m\n\u001b[32m     96\u001b[39m jf = _get_jvm_function(name, SparkContext._active_spark_context)\n\u001b[32m---> \u001b[39m\u001b[32m97\u001b[39m \u001b[38;5;28;01mreturn\u001b[39;00m Column(\u001b[43mjf\u001b[49m\u001b[43m(\u001b[49m\u001b[43m*\u001b[49m\u001b[43margs\u001b[49m\u001b[43m)\u001b[49m)\n",
      "\u001b[36mFile \u001b[39m\u001b[32m~/spark/spark-3.5.5-bin-hadoop3/python/lib/py4j-0.10.9.7-src.zip/py4j/java_gateway.py:1322\u001b[39m, in \u001b[36mJavaMember.__call__\u001b[39m\u001b[34m(self, *args)\u001b[39m\n\u001b[32m   1316\u001b[39m command = proto.CALL_COMMAND_NAME +\\\n\u001b[32m   1317\u001b[39m     \u001b[38;5;28mself\u001b[39m.command_header +\\\n\u001b[32m   1318\u001b[39m     args_command +\\\n\u001b[32m   1319\u001b[39m     proto.END_COMMAND_PART\n\u001b[32m   1321\u001b[39m answer = \u001b[38;5;28mself\u001b[39m.gateway_client.send_command(command)\n\u001b[32m-> \u001b[39m\u001b[32m1322\u001b[39m return_value = \u001b[43mget_return_value\u001b[49m\u001b[43m(\u001b[49m\n\u001b[32m   1323\u001b[39m \u001b[43m    \u001b[49m\u001b[43manswer\u001b[49m\u001b[43m,\u001b[49m\u001b[43m \u001b[49m\u001b[38;5;28;43mself\u001b[39;49m\u001b[43m.\u001b[49m\u001b[43mgateway_client\u001b[49m\u001b[43m,\u001b[49m\u001b[43m \u001b[49m\u001b[38;5;28;43mself\u001b[39;49m\u001b[43m.\u001b[49m\u001b[43mtarget_id\u001b[49m\u001b[43m,\u001b[49m\u001b[43m \u001b[49m\u001b[38;5;28;43mself\u001b[39;49m\u001b[43m.\u001b[49m\u001b[43mname\u001b[49m\u001b[43m)\u001b[49m\n\u001b[32m   1325\u001b[39m \u001b[38;5;28;01mfor\u001b[39;00m temp_arg \u001b[38;5;129;01min\u001b[39;00m temp_args:\n\u001b[32m   1326\u001b[39m     \u001b[38;5;28;01mif\u001b[39;00m \u001b[38;5;28mhasattr\u001b[39m(temp_arg, \u001b[33m\"\u001b[39m\u001b[33m_detach\u001b[39m\u001b[33m\"\u001b[39m):\n",
      "\u001b[36mFile \u001b[39m\u001b[32m~/spark/spark-3.5.5-bin-hadoop3/python/pyspark/errors/exceptions/captured.py:185\u001b[39m, in \u001b[36mcapture_sql_exception.<locals>.deco\u001b[39m\u001b[34m(*a, **kw)\u001b[39m\n\u001b[32m    181\u001b[39m converted = convert_exception(e.java_exception)\n\u001b[32m    182\u001b[39m \u001b[38;5;28;01mif\u001b[39;00m \u001b[38;5;129;01mnot\u001b[39;00m \u001b[38;5;28misinstance\u001b[39m(converted, UnknownException):\n\u001b[32m    183\u001b[39m     \u001b[38;5;66;03m# Hide where the exception came from that shows a non-Pythonic\u001b[39;00m\n\u001b[32m    184\u001b[39m     \u001b[38;5;66;03m# JVM exception message.\u001b[39;00m\n\u001b[32m--> \u001b[39m\u001b[32m185\u001b[39m     \u001b[38;5;28;01mraise\u001b[39;00m converted \u001b[38;5;28;01mfrom\u001b[39;00m\u001b[38;5;250m \u001b[39m\u001b[38;5;28;01mNone\u001b[39;00m\n\u001b[32m    186\u001b[39m \u001b[38;5;28;01melse\u001b[39;00m:\n\u001b[32m    187\u001b[39m     \u001b[38;5;28;01mraise\u001b[39;00m\n",
      "\u001b[31mAnalysisException\u001b[39m: Syntax error in attribute name: When I am engaged in class: - I usually don't feel too hot or too cold.."
     ]
    }
   ],
   "source": [
    "null_value = df_student.select([F.sum(F.col(cols).isNull().cast('int')).alias(cols) for cols in df_student.columns])\n",
    "null_value.show()"
   ]
  },
  {
   "cell_type": "code",
   "execution_count": null,
   "id": "5ced4466",
   "metadata": {},
   "outputs": [
    {
     "name": "stdout",
     "output_type": "stream",
     "text": [
      "Student Info Dataset Schema\n",
      "root\n",
      " |-- Pid: integer (nullable = true)\n",
      " |-- Gender: string (nullable = true)\n",
      " |-- Age: integer (nullable = true)\n",
      " |-- Form Room: string (nullable = true)\n",
      " |-- Math Room: string (nullable = true)\n",
      " |-- Language Room: string (nullable = true)\n",
      " |-- What is your general feeling in the classroom? - 1: integer (nullable = true)\n",
      " |-- When I am engaged in class: - I usually don't feel too hot or too cold.: string (nullable = true)\n",
      " |-- When I am engaged in class: - I could get distracted when the room is too hot or too cold.: string (nullable = true)\n",
      "\n",
      "\n",
      " Dataset Sample\n"
     ]
    },
    {
     "name": "stderr",
     "output_type": "stream",
     "text": [
      "[Stage 39:>                                                         (0 + 1) / 1]\r"
     ]
    },
    {
     "name": "stdout",
     "output_type": "stream",
     "text": [
      "+---+------+---+---------+---------+-------------+--------------------------------------------------+-----------------------------------------------------------------------+------------------------------------------------------------------------------------------+\n",
      "|Pid|Gender|Age|Form Room|Math Room|Language Room|What is your general feeling in the classroom? - 1|When I am engaged in class: - I usually don't feel too hot or too cold.|When I am engaged in class: - I could get distracted when the room is too hot or too cold.|\n",
      "+---+------+---+---------+---------+-------------+--------------------------------------------------+-----------------------------------------------------------------------+------------------------------------------------------------------------------------------+\n",
      "|  1|Female| 16|       R3|       R3|           R1|                                                 0|                                                      Somewhat disagree|                                                                            Somewhat agree|\n",
      "|  2|Female| 17|       R3|       R1|           R1|                                                 0|                                                      Somewhat disagree|                                                                      Neither agree nor...|\n",
      "|  3|  Male| 16|       R3|       R2|           R4|                                                -1|                                                      Somewhat disagree|                                                                         Somewhat disagree|\n",
      "|  4|  Male| 16|       R3|       R1|           R1|                                                -1|                                                      Somewhat disagree|                                                                            Somewhat agree|\n",
      "|  5|  Male| 16|       R3|       R1|           R3|                                                 1|                                                      Somewhat disagree|                                                                            Somewhat agree|\n",
      "+---+------+---+---------+---------+-------------+--------------------------------------------------+-----------------------------------------------------------------------+------------------------------------------------------------------------------------------+\n",
      "only showing top 5 rows\n",
      "\n"
     ]
    },
    {
     "name": "stderr",
     "output_type": "stream",
     "text": [
      "                                                                                \r"
     ]
    }
   ],
   "source": [
    "# Student Info Basic Information\n",
    "print('Student Info Dataset Schema')\n",
    "df_student.printSchema()\n",
    "print('\\n Dataset Sample')\n",
    "df_student.show(5)"
   ]
  },
  {
   "cell_type": "code",
   "execution_count": null,
   "id": "6262b363",
   "metadata": {},
   "outputs": [
    {
     "name": "stderr",
     "output_type": "stream",
     "text": [
      "                                                                                \r"
     ]
    },
    {
     "data": {
      "image/png": "[encoded data removed]",
      "text/plain": [
       "<Figure size 640x480 with 1 Axes>"
      ]
     },
     "metadata": {},
     "output_type": "display_data"
    }
   ],
   "source": [
    "# Gender Distribution \n",
    "gender_pd = df_student.select([\"Pid\", \"Gender\"]).toPandas()\n",
    "count_gender = gender_pd.groupby(\"Gender\")['Pid'].nunique().reset_index()\n",
    "count_gender.columns = [\"Gender\", \"TotalPid\"]\n",
    "\n",
    "sns.barplot(data=count_gender, x='Gender', y='TotalPid')\n",
    "plt.title(\"Gender Distribution\")\n",
    "plt.ylabel(\"Total Students\")\n",
    "plt.xlabel(\"Gender\")\n",
    "plt.show()"
   ]
  },
  {
   "cell_type": "code",
   "execution_count": null,
   "id": "cae51005",
   "metadata": {},
   "outputs": [
    {
     "name": "stderr",
     "output_type": "stream",
     "text": [
      "                                                                                \r"
     ]
    },
    {
     "data": {
      "image/png": "[encoded data removed]",
      "text/plain": [
       "<Figure size 640x480 with 1 Axes>"
      ]
     },
     "metadata": {},
     "output_type": "display_data"
    }
   ],
   "source": [
    "# Age Distribution \n",
    "Age_pd = df_student.select([\"Pid\", \"Age\"]).toPandas()\n",
    "count_Age = Age_pd.groupby(\"Age\")['Pid'].nunique().reset_index()\n",
    "count_Age.columns = [\"Age\", \"TotalPid\"]\n",
    "\n",
    "sns.barplot(data=count_Age, x='Age', y='TotalPid')\n",
    "plt.title(\"Age Distribution\")\n",
    "plt.ylabel(\"Total Students\")\n",
    "plt.xlabel(\"Age\")\n",
    "plt.gca().yaxis.set_major_locator(mticker.MaxNLocator(integer=True))\n",
    "plt.show()"
   ]
  },
  {
   "cell_type": "code",
   "execution_count": null,
   "id": "1948a5b0",
   "metadata": {},
   "outputs": [
    {
     "name": "stderr",
     "output_type": "stream",
     "text": [
      "                                                                                \r"
     ]
    },
    {
     "data": {
      "image/png": "[encoded data removed]",
      "text/plain": [
       "<Figure size 640x480 with 1 Axes>"
      ]
     },
     "metadata": {},
     "output_type": "display_data"
    }
   ],
   "source": [
    "# Students General Feeling in Classrooms\n",
    "feeling_pd = df_student.select(\"What is your general feeling in the classroom? - 1\").toPandas()\n",
    "\n",
    "sns.countplot(data=feeling_pd, x='What is your general feeling in the classroom? - 1')\n",
    "plt.title(\"Students General Felling Distribution\")\n",
    "plt.ylabel(\"Total Students\")\n",
    "plt.xlabel(\"Rate\")\n",
    "plt.gca().yaxis.set_major_locator(mticker.MaxNLocator(integer=True))\n",
    "plt.show()"
   ]
  },
  {
   "cell_type": "code",
   "execution_count": null,
   "id": "02c9768e",
   "metadata": {},
   "outputs": [
    {
     "name": "stderr",
     "output_type": "stream",
     "text": [
      "                                                                                \r"
     ]
    },
    {
     "data": {
      "image/png": "[encoded data removed]",
      "text/plain": [
       "<Figure size 1000x600 with 1 Axes>"
      ]
     },
     "metadata": {},
     "output_type": "display_data"
    },
    {
     "name": "stderr",
     "output_type": "stream",
     "text": [
      "25/05/28 07:08:34 ERROR TaskSchedulerImpl: Lost executor 2 on 172.18.0.4: worker lost: 172.18.0.4:42301 got disassociated\n",
      "25/05/28 07:08:34 ERROR TaskSchedulerImpl: Lost executor 0 on 172.18.0.5: worker lost: 172.18.0.5:38867 got disassociated\n",
      "25/05/28 07:08:34 ERROR TaskSchedulerImpl: Lost executor 1 on 172.18.0.6: worker lost: 172.18.0.6:36619 got disassociated\n",
      "25/05/28 07:08:34 WARN TransportChannelHandler: Exception in connection from /172.18.0.4:55656\n",
      "java.io.IOException: Connection reset by peer\n",
      "\tat java.base/sun.nio.ch.FileDispatcherImpl.read0(Native Method)\n",
      "\tat java.base/sun.nio.ch.SocketDispatcher.read(SocketDispatcher.java:39)\n",
      "\tat java.base/sun.nio.ch.IOUtil.readIntoNativeBuffer(IOUtil.java:276)\n",
      "\tat java.base/sun.nio.ch.IOUtil.read(IOUtil.java:233)\n",
      "\tat java.base/sun.nio.ch.IOUtil.read(IOUtil.java:223)\n",
      "\tat java.base/sun.nio.ch.SocketChannelImpl.read(SocketChannelImpl.java:358)\n",
      "\tat io.netty.buffer.PooledByteBuf.setBytes(PooledByteBuf.java:254)\n",
      "\tat io.netty.buffer.AbstractByteBuf.writeBytes(AbstractByteBuf.java:1132)\n",
      "\tat io.netty.channel.socket.nio.NioSocketChannel.doReadBytes(NioSocketChannel.java:357)\n",
      "\tat io.netty.channel.nio.AbstractNioByteChannel$NioByteUnsafe.read(AbstractNioByteChannel.java:151)\n",
      "\tat io.netty.channel.nio.NioEventLoop.processSelectedKey(NioEventLoop.java:788)\n",
      "\tat io.netty.channel.nio.NioEventLoop.processSelectedKeysOptimized(NioEventLoop.java:724)\n",
      "\tat io.netty.channel.nio.NioEventLoop.processSelectedKeys(NioEventLoop.java:650)\n",
      "\tat io.netty.channel.nio.NioEventLoop.run(NioEventLoop.java:562)\n",
      "\tat io.netty.util.concurrent.SingleThreadEventExecutor$4.run(SingleThreadEventExecutor.java:997)\n",
      "\tat io.netty.util.internal.ThreadExecutorMap$2.run(ThreadExecutorMap.java:74)\n",
      "\tat io.netty.util.concurrent.FastThreadLocalRunnable.run(FastThreadLocalRunnable.java:30)\n",
      "\tat java.base/java.lang.Thread.run(Thread.java:834)\n",
      "25/05/28 07:08:34 WARN TransportChannelHandler: Exception in connection from /172.18.0.6:52192\n",
      "java.io.IOException: Connection reset by peer\n",
      "\tat java.base/sun.nio.ch.FileDispatcherImpl.read0(Native Method)\n",
      "\tat java.base/sun.nio.ch.SocketDispatcher.read(SocketDispatcher.java:39)\n",
      "\tat java.base/sun.nio.ch.IOUtil.readIntoNativeBuffer(IOUtil.java:276)\n",
      "\tat java.base/sun.nio.ch.IOUtil.read(IOUtil.java:233)\n",
      "\tat java.base/sun.nio.ch.IOUtil.read(IOUtil.java:223)\n",
      "\tat java.base/sun.nio.ch.SocketChannelImpl.read(SocketChannelImpl.java:358)\n",
      "\tat io.netty.buffer.PooledByteBuf.setBytes(PooledByteBuf.java:254)\n",
      "\tat io.netty.buffer.AbstractByteBuf.writeBytes(AbstractByteBuf.java:1132)\n",
      "\tat io.netty.buffer.WrappedByteBuf.writeBytes(WrappedByteBuf.java:821)\n",
      "\tat io.netty.channel.socket.nio.NioSocketChannel.doReadBytes(NioSocketChannel.java:357)\n",
      "\tat io.netty.channel.nio.AbstractNioByteChannel$NioByteUnsafe.read(AbstractNioByteChannel.java:151)\n",
      "\tat io.netty.channel.nio.NioEventLoop.processSelectedKey(NioEventLoop.java:788)\n",
      "\tat io.netty.channel.nio.NioEventLoop.processSelectedKeysOptimized(NioEventLoop.java:724)\n",
      "\tat io.netty.channel.nio.NioEventLoop.processSelectedKeys(NioEventLoop.java:650)\n",
      "\tat io.netty.channel.nio.NioEventLoop.run(NioEventLoop.java:562)\n",
      "\tat io.netty.util.concurrent.SingleThreadEventExecutor$4.run(SingleThreadEventExecutor.java:997)\n",
      "\tat io.netty.util.internal.ThreadExecutorMap$2.run(ThreadExecutorMap.java:74)\n",
      "\tat io.netty.util.concurrent.FastThreadLocalRunnable.run(FastThreadLocalRunnable.java:30)\n",
      "\tat java.base/java.lang.Thread.run(Thread.java:834)\n",
      "25/05/28 07:08:34 WARN TransportChannelHandler: Exception in connection from /172.18.0.5:59854\n",
      "java.io.IOException: Connection reset by peer\n",
      "\tat java.base/sun.nio.ch.FileDispatcherImpl.read0(Native Method)\n",
      "\tat java.base/sun.nio.ch.SocketDispatcher.read(SocketDispatcher.java:39)\n",
      "\tat java.base/sun.nio.ch.IOUtil.readIntoNativeBuffer(IOUtil.java:276)\n",
      "\tat java.base/sun.nio.ch.IOUtil.read(IOUtil.java:233)\n",
      "\tat java.base/sun.nio.ch.IOUtil.read(IOUtil.java:223)\n",
      "\tat java.base/sun.nio.ch.SocketChannelImpl.read(SocketChannelImpl.java:358)\n",
      "\tat io.netty.buffer.PooledByteBuf.setBytes(PooledByteBuf.java:254)\n",
      "\tat io.netty.buffer.AbstractByteBuf.writeBytes(AbstractByteBuf.java:1132)\n",
      "\tat io.netty.channel.socket.nio.NioSocketChannel.doReadBytes(NioSocketChannel.java:357)\n",
      "\tat io.netty.channel.nio.AbstractNioByteChannel$NioByteUnsafe.read(AbstractNioByteChannel.java:151)\n",
      "\tat io.netty.channel.nio.NioEventLoop.processSelectedKey(NioEventLoop.java:788)\n",
      "\tat io.netty.channel.nio.NioEventLoop.processSelectedKeysOptimized(NioEventLoop.java:724)\n",
      "\tat io.netty.channel.nio.NioEventLoop.processSelectedKeys(NioEventLoop.java:650)\n",
      "\tat io.netty.channel.nio.NioEventLoop.run(NioEventLoop.java:562)\n",
      "\tat io.netty.util.concurrent.SingleThreadEventExecutor$4.run(SingleThreadEventExecutor.java:997)\n",
      "\tat io.netty.util.internal.ThreadExecutorMap$2.run(ThreadExecutorMap.java:74)\n",
      "\tat io.netty.util.concurrent.FastThreadLocalRunnable.run(FastThreadLocalRunnable.java:30)\n",
      "\tat java.base/java.lang.Thread.run(Thread.java:834)\n",
      "25/05/28 07:08:44 WARN StandaloneAppClient$ClientEndpoint: Connection to spark-master:7077 failed; waiting for master to reconnect...\n",
      "25/05/28 07:08:44 WARN StandaloneSchedulerBackend: Disconnected from Spark cluster! Waiting for reconnection...\n"
     ]
    }
   ],
   "source": [
    "# Gender Distrubution for Temperatrue Influence during Engaged Period\n",
    "df_temperature = df_student.groupBy(\"Gender\") \\\n",
    "    .pivot(\"Distracted by Temparature\") \\\n",
    "    .count() \n",
    "    \n",
    "temperature_pd = df_temperature.toPandas()\n",
    "temperature_stacked = temperature_pd.set_index(\"Gender\").T\n",
    "temperature_stacked.plot(kind=\"bar\", stacked=True, figsize=(10, 6))\n",
    "\n",
    "plt.title(\"Gender Distribution for Temperature Influence During Engaged Period\")\n",
    "plt.ylabel(\"Total Students\")\n",
    "plt.xlabel(\"Distracted by Temparature\")\n",
    "plt.xticks(rotation=360)\n",
    "plt.gca().yaxis.set_major_locator(mticker.MaxNLocator(integer=True))\n",
    "plt.legend(title=\"Gender\")\n",
    "plt.tight_layout()\n",
    "plt.show()"
   ]
  },
  {
   "cell_type": "markdown",
   "id": "3321202a",
   "metadata": {},
   "source": [
    "## EDA for Class Table Dataset"
   ]
  },
  {
   "cell_type": "code",
   "execution_count": 11,
   "id": "9f42318e",
   "metadata": {},
   "outputs": [
    {
     "name": "stdout",
     "output_type": "stream",
     "text": [
      "Class Table Total Data\n"
     ]
    },
    {
     "name": "stderr",
     "output_type": "stream",
     "text": [
      "                                                                                \r"
     ]
    },
    {
     "data": {
      "text/plain": [
       "248"
      ]
     },
     "execution_count": 11,
     "metadata": {},
     "output_type": "execute_result"
    }
   ],
   "source": [
    "# Check Class Table Total Data\n",
    "print('Class Table Total Data')\n",
    "df_class.count()"
   ]
  },
  {
   "cell_type": "code",
   "execution_count": null,
   "id": "0a967ce0",
   "metadata": {},
   "outputs": [
    {
     "name": "stdout",
     "output_type": "stream",
     "text": [
      "\n",
      "Class Info Dataset Schema\n",
      "root\n",
      " |-- Class_id: integer (nullable = true)\n",
      " |-- Room: string (nullable = true)\n",
      " |-- Start_time: timestamp (nullable = true)\n",
      " |-- Finish_time: timestamp (nullable = true)\n",
      " |-- Class_len: string (nullable = true)\n",
      " |-- Week: integer (nullable = true)\n",
      " |-- Weekday: integer (nullable = true)\n",
      " |-- Class_no: integer (nullable = true)\n",
      " |-- Subject: string (nullable = true)\n",
      " |-- is_Form: string (nullable = true)\n",
      "\n",
      "\n",
      " Dataset Sample\n"
     ]
    },
    {
     "name": "stderr",
     "output_type": "stream",
     "text": [
      "[Stage 27:>                                                         (0 + 1) / 1]\r"
     ]
    },
    {
     "name": "stdout",
     "output_type": "stream",
     "text": [
      "+--------+----+-------------------+-------------------+---------+----+-------+--------+--------+-------+\n",
      "|Class_id|Room|         Start_time|        Finish_time|Class_len|Week|Weekday|Class_no| Subject|is_Form|\n",
      "+--------+----+-------------------+-------------------+---------+----+-------+--------+--------+-------+\n",
      "|       1|  R6|2025-05-28 09:00:00|2025-05-28 09:40:00|    short|   1|      1|       1|Assembly|    all|\n",
      "|       2|  R3|2025-05-28 09:40:00|2025-05-28 11:00:00|     long|   1|      1|       2|Language|      0|\n",
      "|       3|  R3|2025-05-28 11:25:00|2025-05-28 12:05:00|    short|   1|      1|       3|    Form|     R3|\n",
      "|       4|  R3|2025-05-28 12:05:00|2025-05-28 13:25:00|     long|   1|      1|       4|   Maths|      0|\n",
      "|       5|  R3|2025-05-28 14:15:00|2025-05-28 15:35:00|     long|   1|      1|       5| English|     R3|\n",
      "+--------+----+-------------------+-------------------+---------+----+-------+--------+--------+-------+\n",
      "only showing top 5 rows\n",
      "\n"
     ]
    },
    {
     "name": "stderr",
     "output_type": "stream",
     "text": [
      "                                                                                \r"
     ]
    }
   ],
   "source": [
    "# Class Info Basic Information\n",
    "print('\\nClass Info Dataset Schema')\n",
    "df_class.printSchema()\n",
    "print('\\n Dataset Sample')\n",
    "df_class.show(5)"
   ]
  },
  {
   "cell_type": "markdown",
   "id": "a84adbb9",
   "metadata": {},
   "source": [
    "## EDA for Student Survey Dataset"
   ]
  },
  {
   "cell_type": "code",
   "execution_count": 16,
   "id": "681a7e95",
   "metadata": {},
   "outputs": [
    {
     "name": "stdout",
     "output_type": "stream",
     "text": [
      "Survey Total Data\n"
     ]
    },
    {
     "name": "stderr",
     "output_type": "stream",
     "text": [
      "                                                                                \r"
     ]
    },
    {
     "data": {
      "text/plain": [
       "488"
      ]
     },
     "execution_count": 16,
     "metadata": {},
     "output_type": "execute_result"
    }
   ],
   "source": [
    "# Check Survey Total Data\n",
    "print('Survey Total Data')\n",
    "df_survey.count()"
   ]
  },
  {
   "cell_type": "code",
   "execution_count": 17,
   "id": "ba86f2db",
   "metadata": {},
   "outputs": [
    {
     "name": "stdout",
     "output_type": "stream",
     "text": [
      "Student Survey Dataset Schema\n",
      "root\n",
      " |-- Pid: integer (nullable = true)\n",
      " |-- Week: integer (nullable = true)\n",
      " |-- Weekday: integer (nullable = true)\n",
      " |-- Time: timestamp (nullable = true)\n",
      " |-- Thermal_sensation: integer (nullable = true)\n",
      " |-- Thermal_preference: string (nullable = true)\n",
      " |-- Clothing: string (nullable = true)\n",
      " |-- Loc_x: integer (nullable = true)\n",
      " |-- Loc_y: integer (nullable = true)\n",
      " |-- Engage_1: string (nullable = true)\n",
      " |-- Engage_2: string (nullable = true)\n",
      " |-- Engage_3: string (nullable = true)\n",
      " |-- Engage_4: string (nullable = true)\n",
      " |-- Engage_5: string (nullable = true)\n",
      " |-- Arousal: integer (nullable = true)\n",
      " |-- Valence: integer (nullable = true)\n",
      " |-- Confidence_level: integer (nullable = true)\n",
      "\n",
      "\n",
      " Dataset Sample\n"
     ]
    },
    {
     "name": "stderr",
     "output_type": "stream",
     "text": [
      "[Stage 15:>                                                         (0 + 1) / 1]\r"
     ]
    },
    {
     "name": "stdout",
     "output_type": "stream",
     "text": [
      "+---+----+-------+-------------------+-----------------+------------------+--------------------+-----+-----+-----------------+--------------------+--------------------+--------------------+--------------------+-------+-------+----------------+\n",
      "|Pid|Week|Weekday|               Time|Thermal_sensation|Thermal_preference|            Clothing|Loc_x|Loc_y|         Engage_1|            Engage_2|            Engage_3|            Engage_4|            Engage_5|Arousal|Valence|Confidence_level|\n",
      "+---+----+-------+-------------------+-----------------+------------------+--------------------+-----+-----+-----------------+--------------------+--------------------+--------------------+--------------------+-------+-------+----------------+\n",
      "|  8|   1|      1|2025-05-28 10:02:00|                1|         No change|Shirt,Jumper,Pant...|  228|  112|Somewhat disagree|      Somewhat agree|      Somewhat agree|Neither agree nor...|      Somewhat agree|   NULL|   NULL|            NULL|\n",
      "| 18|   1|      1|2025-05-28 10:03:00|                1|            Warmer|Shirt,Jumper,Jack...|  313|  201|   Somewhat agree|Neither agree nor...|Neither agree nor...|   Strongly disagree|   Strongly disagree|   NULL|   NULL|            NULL|\n",
      "|  3|   1|      1|2025-05-28 10:03:00|               -2|            Warmer| Shirt,Jacket,Shorts|  295|  277|   Somewhat agree|Neither agree nor...|      Strongly agree|Neither agree nor...|      Strongly agree|   NULL|   NULL|            NULL|\n",
      "|  9|   1|      1|2025-05-28 10:55:00|               -1|            Warmer|        Jumper,Pants|  223|  247|   Somewhat agree|Neither agree nor...|      Strongly agree|   Somewhat disagree|Neither agree nor...|   NULL|   NULL|            NULL|\n",
      "| 14|   1|      1|2025-05-28 10:56:00|                1|            Cooler|Shirt,Jumper,Pant...|  180|  221|   Somewhat agree|   Strongly disagree|      Somewhat agree|   Strongly disagree|   Strongly disagree|   NULL|   NULL|            NULL|\n",
      "+---+----+-------+-------------------+-----------------+------------------+--------------------+-----+-----+-----------------+--------------------+--------------------+--------------------+--------------------+-------+-------+----------------+\n",
      "only showing top 5 rows\n",
      "\n"
     ]
    },
    {
     "name": "stderr",
     "output_type": "stream",
     "text": [
      "                                                                                \r"
     ]
    }
   ],
   "source": [
    "# Survey Basic Information\n",
    "print('Student Survey Dataset Schema')\n",
    "df_survey.printSchema()\n",
    "print('\\n Dataset Sample')\n",
    "df_survey.show(5)"
   ]
  }
 ],
 "metadata": {
  "kernelspec": {
   "display_name": "Python 3",
   "language": "python",
   "name": "python3"
  },
  "language_info": {
   "codemirror_mode": {
    "name": "ipython",
    "version": 3
   },
   "file_extension": ".py",
   "mimetype": "text/x-python",
   "name": "python",
   "nbconvert_exporter": "python",
   "pygments_lexer": "ipython3",
   "version": "3.13.3"
  }
 },
 "nbformat": 4,
 "nbformat_minor": 5
}
