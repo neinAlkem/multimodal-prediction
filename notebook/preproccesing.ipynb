{
 "cells": [
  {
   "cell_type": "code",
   "execution_count": 62,
   "id": "ebfa6a53",
   "metadata": {},
   "outputs": [],
   "source": [
    "from pyspark.sql import SparkSession, types\n",
    "from pyspark.sql import functions as F\n",
    "import os\n",
    "from dotenv import load_dotenv\n",
    "from pyspark.ml.feature import Imputer\n",
    "import io\n",
    "from google.cloud import storage"
   ]
  },
  {
   "cell_type": "code",
   "execution_count": 2,
   "id": "74eccd44",
   "metadata": {},
   "outputs": [
    {
     "name": "stdout",
     "output_type": "stream",
     "text": [
      ":: loading settings :: url = jar:file:/home/Bagas/spark/spark-3.5.5-bin-hadoop3/jars/ivy-2.5.1.jar!/org/apache/ivy/core/settings/ivysettings.xml\n"
     ]
    },
    {
     "name": "stderr",
     "output_type": "stream",
     "text": [
      "Ivy Default Cache set to: /home/Bagas/.ivy2/cache\n",
      "The jars for the packages stored in: /home/Bagas/.ivy2/jars\n",
      "com.google.cloud.spark#spark-bigquery-with-dependencies_2.12 added as a dependency\n",
      ":: resolving dependencies :: org.apache.spark#spark-submit-parent-a7b8c5fd-1e76-462f-88e0-891facf138e1;1.0\n",
      "\tconfs: [default]\n",
      "\tfound com.google.cloud.spark#spark-bigquery-with-dependencies_2.12;0.36.1 in central\n",
      ":: resolution report :: resolve 128ms :: artifacts dl 4ms\n",
      "\t:: modules in use:\n",
      "\tcom.google.cloud.spark#spark-bigquery-with-dependencies_2.12;0.36.1 from central in [default]\n",
      "\t---------------------------------------------------------------------\n",
      "\t|                  |            modules            ||   artifacts   |\n",
      "\t|       conf       | number| search|dwnlded|evicted|| number|dwnlded|\n",
      "\t---------------------------------------------------------------------\n",
      "\t|      default     |   1   |   0   |   0   |   0   ||   1   |   0   |\n",
      "\t---------------------------------------------------------------------\n",
      ":: retrieving :: org.apache.spark#spark-submit-parent-a7b8c5fd-1e76-462f-88e0-891facf138e1\n",
      "\tconfs: [default]\n",
      "\t0 artifacts copied, 1 already retrieved (0kB/5ms)\n",
      "25/06/02 07:12:07 WARN NativeCodeLoader: Unable to load native-hadoop library for your platform... using builtin-java classes where applicable\n",
      "Setting default log level to \"WARN\".\n",
      "To adjust logging level use sc.setLogLevel(newLevel). For SparkR, use setLogLevel(newLevel).\n"
     ]
    }
   ],
   "source": [
    "load_dotenv()\n",
    "\n",
    "spark = SparkSession \\\n",
    "    .builder \\\n",
    "    .master('spark://localhost:7077') \\\n",
    "    .config(\"spark.jars.packages\", \"com.google.cloud.spark:spark-bigquery-with-dependencies_2.12:0.36.1\") \\\n",
    "    .config(\"spark.jars\", \"https://storage.googleapis.com/hadoop-lib/gcs/gcs-connector-hadoop3-latest.jar\") \\\n",
    "    .config(\"spark.hadoop.fs.gs.impl\", \"com.google.cloud.hadoop.fs.gcs.GoogleHadoopFileSystem\") \\\n",
    "    .config(\"spark.hadoop.fs.AbstractFileSystem.gs.impl\", \"com.google.cloud.hadoop.fs.gcs.GoogleHadoopFS\") \\\n",
    "    .config(\"spark.hadoop.google.cloud.auth.service.account.enable\", \"true\") \\\n",
    "     .config(\"spark.hadoop.fs.gs.impl\", \"com.google.cloud.hadoop.fs.gcs.GoogleHadoopFileSystem\") \\\n",
    "     .config(\"spark.hadoop.fs.AbstractFileSystem.gs.impl\", \"com.google.cloud.hadoop.fs.gcs.GoogleHadoopFS\") \\\n",
    "     .config(\"spark.hadoop.google.cloud.auth.service.account.enable\", \"true\") \\\n",
    "     .config(\"spark.hadoop.google.cloud.auth.type\", \"SERVICE_ACCOUNT_JSON_KEYFILE\") \\\n",
    "     .config(\"spark.hadoop.fs.gs.project.id\", os.getenv('PROJECT_ID')) \\\n",
    "     .appName(\"preprocessing_spark\") \\\n",
    "     .getOrCreate()"
   ]
  },
  {
   "cell_type": "code",
   "execution_count": 8,
   "id": "6fdb9155",
   "metadata": {},
   "outputs": [
    {
     "data": {
      "text/html": [
       "\n",
       "            <div>\n",
       "                <p><b>SparkSession - in-memory</b></p>\n",
       "                \n",
       "        <div>\n",
       "            <p><b>SparkContext</b></p>\n",
       "\n",
       "            <p><a href=\"http://abd-vm.us-central1-c.c.project-big-data-461104.internal:4040\">Spark UI</a></p>\n",
       "\n",
       "            <dl>\n",
       "              <dt>Version</dt>\n",
       "                <dd><code>v3.5.5</code></dd>\n",
       "              <dt>Master</dt>\n",
       "                <dd><code>spark://localhost:7077</code></dd>\n",
       "              <dt>AppName</dt>\n",
       "                <dd><code>preprocessing_spark</code></dd>\n",
       "            </dl>\n",
       "        </div>\n",
       "        \n",
       "            </div>\n",
       "        "
      ],
      "text/plain": [
       "<pyspark.sql.session.SparkSession at 0x7ef9629d0d70>"
      ]
     },
     "execution_count": 8,
     "metadata": {},
     "output_type": "execute_result"
    }
   ],
   "source": [
    "spark"
   ]
  },
  {
   "cell_type": "code",
   "execution_count": 6,
   "id": "29403e43",
   "metadata": {},
   "outputs": [
    {
     "name": "stderr",
     "output_type": "stream",
     "text": [
      "                                                                                \r"
     ]
    }
   ],
   "source": [
    "# Load Data\n",
    "base_dir = \"gs://project-abd/notebook-data/\"\n",
    "\n",
    "try:\n",
    "    df_survey = spark.read.csv(os.path.join(base_dir, \"participant_survey.csv\"),\n",
    "                                header=True,\n",
    "                                inferSchema=True)\n",
    "    \n",
    "    df_devices = spark.read.csv(os.path.join(base_dir, \"fisiology.csv\"),\n",
    "                                header=True,\n",
    "                                inferSchema=True)\n",
    "except Exception as e:\n",
    "    print(f'Error reading data from GCS : {e}')"
   ]
  },
  {
   "cell_type": "code",
   "execution_count": 7,
   "id": "f2859c86",
   "metadata": {},
   "outputs": [
    {
     "name": "stderr",
     "output_type": "stream",
     "text": [
      "                                                                                \r"
     ]
    },
    {
     "name": "stdout",
     "output_type": "stream",
     "text": [
      "+----------+-----------+---+----+-------+-------------------+----------------+----+--------+\n",
      "|student_id|gender_code|age|week|weekday|               time|engagement_level|room|class_id|\n",
      "+----------+-----------+---+----+-------+-------------------+----------------+----+--------+\n",
      "|        15|          1| 16|   1|      1|2025-06-02 11:00:00|  Highly Engaged|  R3|       2|\n",
      "|        20|          1| 16|   1|      1|2025-06-02 11:00:00|  Highly Engaged|  R3|       2|\n",
      "|        13|          1| 16|   1|      1|2025-06-02 11:00:00|         Engaged|  R3|       2|\n",
      "|        23|          1| 16|   1|      1|2025-06-02 11:00:00|  Highly Engaged|  R3|       2|\n",
      "|        21|          1| 15|   1|      1|2025-06-02 11:00:00|     Not Engaged|  R3|       2|\n",
      "+----------+-----------+---+----+-------+-------------------+----------------+----+--------+\n",
      "only showing top 5 rows\n",
      "\n"
     ]
    },
    {
     "name": "stderr",
     "output_type": "stream",
     "text": [
      "[Stage 5:>                                                          (0 + 1) / 1]\r"
     ]
    },
    {
     "name": "stdout",
     "output_type": "stream",
     "text": [
      "+--------+--------------+-------------------+------------------+------------------+--------------------+-------------------+--------------------+\n",
      "|class_id|participant_id|        time_format|           hr_mean|         temp_mean|            eda_mean|           ibi_mean|            bvp_mean|\n",
      "+--------+--------------+-------------------+------------------+------------------+--------------------+-------------------+--------------------+\n",
      "|       1|             1|2025-06-02 09:20:00|101.96850751051262| 18.79666699303521|0.001454626731881...|0.46877134839693707|0.005812729376985872|\n",
      "|       1|             1|2025-06-02 09:25:00|112.20290006001791| 18.79920024236043|3.533424931811168...|0.38022567331790924| 0.01111510058719432|\n",
      "|       1|             1|2025-06-02 09:30:00|110.07446683247885|18.782200450897218|3.661524929339066E-4| 0.3854343295097351|-0.01442968695181...|\n",
      "|       1|             1|2025-06-02 09:35:00| 124.7051665242513| 18.65323377609253|2.006899961270392E-4|0.38790275516668205|6.333332597084033E-4|\n",
      "|       1|             2|2025-06-02 09:20:00|103.59137417159917|18.808865675689482|5.271010639984822E-4|0.44533251225948334| 6.02816501739666E-4|\n",
      "+--------+--------------+-------------------+------------------+------------------+--------------------+-------------------+--------------------+\n",
      "only showing top 5 rows\n",
      "\n"
     ]
    },
    {
     "name": "stderr",
     "output_type": "stream",
     "text": [
      "                                                                                \r"
     ]
    }
   ],
   "source": [
    "survey = df_survey\n",
    "devices = df_devices\n",
    "\n",
    "survey.show(5)\n",
    "devices.show(5)"
   ]
  },
  {
   "cell_type": "code",
   "execution_count": 15,
   "id": "14d3e3e3",
   "metadata": {},
   "outputs": [],
   "source": [
    "survey = survey.withColumnRenamed('time','time_survey')\n",
    "survey = survey.withColumnRenamed('class_id','class_id_survey')"
   ]
  },
  {
   "cell_type": "code",
   "execution_count": 17,
   "id": "94acb7df",
   "metadata": {},
   "outputs": [
    {
     "name": "stderr",
     "output_type": "stream",
     "text": [
      "[Stage 25:>                                                         (0 + 1) / 1]\r"
     ]
    },
    {
     "name": "stdout",
     "output_type": "stream",
     "text": [
      "+--------+--------------+-------------------+------------------+------------------+-------------------+------------------+--------------------+----------+-----------+---+----+-------+-------------------+----------------+----+---------------+\n",
      "|class_id|participant_id|        time_format|           hr_mean|         temp_mean|           eda_mean|          ibi_mean|            bvp_mean|student_id|gender_code|age|week|weekday|        time_survey|engagement_level|room|class_id_survey|\n",
      "+--------+--------------+-------------------+------------------+------------------+-------------------+------------------+--------------------+----------+-----------+---+----+-------+-------------------+----------------+----+---------------+\n",
      "|       5|             1|2025-06-02 14:20:00| 81.25466677347819| 32.09609999974569| 0.1823231962067075|0.6698896481144813| 0.12214216527655178|         1|          1| 16|   1|      1|2025-06-02 14:20:00|  Highly Engaged|  R3|              5|\n",
      "|       7|             1|2025-06-02 10:55:00| 83.31206672668458|30.882199986775717|0.06692810590456551|0.8627627087490899|-0.13621666791257062|         1|          1| 16|   1|      2|2025-06-02 10:55:00|  Highly Engaged|  R3|              7|\n",
      "|       7|            12|2025-06-02 10:55:00| 84.71183344523112|31.020599892934165| 0.3389558720837037|              NULL|-0.01604738509554...|        12|          1| 16|   1|      2|2025-06-02 10:55:00|         Engaged|  R3|              7|\n",
      "|       7|            19|2025-06-02 10:55:00| 77.89306663513183| 31.63719985961914|0.34075033652596176|0.8437885046005249| 0.17251202793549358|        19|          1| 16|   1|      2|2025-06-02 10:55:00|  Highly Engaged|  R3|              7|\n",
      "|       7|            21|2025-06-02 10:55:00| 96.89173352559408|29.075799973805747| 0.2409935087157646|              NULL| 0.14733649224615267|        21|          1| 15|   1|      2|2025-06-02 10:55:00|  Highly Engaged|  R3|              7|\n",
      "|       7|            23|2025-06-02 10:55:00| 91.89096666971842| 28.55840000152588|0.04150805614034956|0.9687943458557129|  0.6698338952293852|        23|          1| 16|   1|      2|2025-06-02 10:55:00|  Highly Engaged|  R3|              7|\n",
      "|       9|             1|2025-06-02 13:20:00| 82.41346666971843|  30.0560000483195|0.06328564253111836|0.9349383314450582| 0.16781718077574623|         1|          1| 16|   1|      2|2025-06-02 13:20:00|  Highly Engaged|  R5|              9|\n",
      "|       9|             3|2025-06-02 13:20:00|104.04916694641113| 33.87896697998047| 0.2473984617491563|              NULL|-0.01404894522818...|         3|          1| 16|   1|      2|2025-06-02 13:20:00|  Highly Engaged|  R5|              9|\n",
      "|      10|             1|2025-06-02 15:30:00| 83.87152767181396| 27.06394345995406|0.10248273054339282|              NULL| 0.13933451724942963|         1|          1| 16|   1|      2|2025-06-02 15:30:00|     Not Engaged|  R3|             10|\n",
      "|      10|             3|2025-06-02 15:30:00| 82.97521359696347| 33.01119654402773| 0.2372223387316116|              NULL|  0.3144639093974197|         3|          1| 16|   1|      2|2025-06-02 15:30:00|  Highly Engaged|  R3|             10|\n",
      "|      10|             5|2025-06-02 15:30:00| 68.19756770778346| 31.19054791698717|0.21472475445373174|              NULL|-0.06592903542811955|         5|          1| 16|   1|      2|2025-06-02 15:30:00|  Highly Engaged|  R3|             10|\n",
      "|      10|             6|2025-06-02 15:30:00| 81.09876414095417| 34.33840946717696| 0.4980446091609668|              NULL|-0.11258604150413568|         6|          1| 16|   1|      2|2025-06-02 15:30:00|  Highly Engaged|  R3|             10|\n",
      "|      12|             3|2025-06-02 10:55:00| 81.42926653544109| 34.46719997406006|0.15655162239447237|0.7560441539837763|-0.08523906971813024|         3|          1| 16|   1|      4|2025-06-02 10:55:00|  Highly Engaged|  R5|             12|\n",
      "|      12|             4|2025-06-02 10:55:00| 86.13146667480468| 34.57790053049723|  3.011677315235138|0.7037467900312172|   0.164698440451272|         4|          1| 16|   1|      4|2025-06-02 10:55:00|  Highly Engaged|  R5|             12|\n",
      "|      12|             5|2025-06-02 10:55:00| 82.30856669108073| 34.51760016123454|0.34194803682466346|  0.74155182157244| -0.0420364344373229|         5|          1| 16|   1|      4|2025-06-02 10:55:00|         Engaged|  R5|             12|\n",
      "|      14|            11|2025-06-02 13:10:00| 71.50373321533203| 32.97703364054362|0.30917784104744594|0.9581911031688962|0.011328134125991103|        11|          1| 16|   1|      4|2025-06-02 13:10:00|     Not Engaged|  R3|             14|\n",
      "|      15|             1|2025-06-02 15:30:00| 88.40356658935546|35.007600161234535| 0.8169537310736875|0.6406543535344741| -0.3483963656545772|         1|          1| 16|   1|      4|2025-06-02 15:30:00|  Highly Engaged|  R3|             15|\n",
      "|      15|            19|2025-06-02 15:10:00| 97.03583338419597| 33.58903381347656|0.09070772036910058| 0.708365668853124|0.002289513296952...|        19|          1| 16|   1|      4|2025-06-02 15:10:00|  Highly Engaged|  R3|             15|\n",
      "|      15|            23|2025-06-02 15:10:00| 69.08709999084472|  33.3955331548055|0.12726702764630318|0.9444875893769441| 0.28050784579555815|        23|          1| 16|   1|      4|2025-06-02 15:10:00|         Engaged|  R3|             15|\n",
      "|      17|             3|2025-06-02 10:55:00| 92.06399988810222| 35.70463356018067| 0.3105144477635622|              NULL|-0.19996147762537778|         3|          1| 16|   1|      5|2025-06-02 10:55:00|  Highly Engaged|  R3|             17|\n",
      "+--------+--------------+-------------------+------------------+------------------+-------------------+------------------+--------------------+----------+-----------+---+----+-------+-------------------+----------------+----+---------------+\n",
      "only showing top 20 rows\n",
      "\n"
     ]
    },
    {
     "name": "stderr",
     "output_type": "stream",
     "text": [
      "                                                                                \r"
     ]
    }
   ],
   "source": [
    "df_join = devices.join(survey, on=[\n",
    "    (devices['class_id'] == survey['class_id_survey']),\n",
    "    (devices['participant_id'] == survey['student_id']),\n",
    "    (devices['time_format'] == survey['time_survey']),\n",
    "], how='inner')\n",
    "\n",
    "df_join.show()"
   ]
  },
  {
   "cell_type": "code",
   "execution_count": 33,
   "id": "df477b62",
   "metadata": {},
   "outputs": [],
   "source": [
    "schema = types.StructType([\n",
    "    types.StructField(\"class_id\", types.IntegerType(), True),\n",
    "    types.StructField(\"room\", types.StringType(), True),\n",
    "    types.StructField(\"student_id\", types.IntegerType(), True),\n",
    "    types.StructField(\"gender_code\", types.IntegerType(), True),\n",
    "    types.StructField(\"age\", types.IntegerType(), True),\n",
    "    types.StructField(\"time_format\", types.TimestampType(), True), \n",
    "    types.StructField(\"hr_mean\", types.DoubleType(), True),\n",
    "    types.StructField(\"temp_mean\", types.DoubleType(), True),\n",
    "    types.StructField(\"eda_mean\", types.DoubleType(), True),\n",
    "    types.StructField(\"ibi_mean\", types.DoubleType(), True),     \n",
    "    types.StructField(\"bvp_mean\", types.DoubleType(), True),\n",
    "    types.StructField(\"engagement_level\", types.StringType(), True)\n",
    "])\n",
    "\n",
    "for field in schema.fields:\n",
    "     df_clean = df_clean.withColumn(field.name, F.col(f\"`{field.name}`\").cast(field.dataType))"
   ]
  },
  {
   "cell_type": "code",
   "execution_count": 34,
   "id": "b0ee9c30",
   "metadata": {},
   "outputs": [
    {
     "name": "stdout",
     "output_type": "stream",
     "text": [
      "root\n",
      " |-- class_id: integer (nullable = true)\n",
      " |-- room: string (nullable = true)\n",
      " |-- student_id: integer (nullable = true)\n",
      " |-- gender_code: integer (nullable = true)\n",
      " |-- age: integer (nullable = true)\n",
      " |-- time_format: timestamp (nullable = true)\n",
      " |-- hr_mean: double (nullable = true)\n",
      " |-- temp_mean: double (nullable = true)\n",
      " |-- eda_mean: double (nullable = true)\n",
      " |-- ibi_mean: double (nullable = true)\n",
      " |-- bvp_mean: double (nullable = true)\n",
      " |-- engagement_level: string (nullable = true)\n",
      "\n"
     ]
    }
   ],
   "source": [
    "df_clean.printSchema()"
   ]
  },
  {
   "cell_type": "code",
   "execution_count": 29,
   "id": "4064baec",
   "metadata": {},
   "outputs": [
    {
     "name": "stderr",
     "output_type": "stream",
     "text": [
      "[Stage 39:>                                                         (0 + 1) / 1]\r"
     ]
    },
    {
     "name": "stdout",
     "output_type": "stream",
     "text": [
      "+--------+----+----------+-----------+---+-------------------+-----------------+------------------+-------------------+------------------+--------------------+----------------+\n",
      "|class_id|room|student_id|gender_code|age|        time_format|          hr_mean|         temp_mean|           eda_mean|          ibi_mean|            bvp_mean|engagement_level|\n",
      "+--------+----+----------+-----------+---+-------------------+-----------------+------------------+-------------------+------------------+--------------------+----------------+\n",
      "|       5|  R3|         1|          1| 16|2025-06-02 14:20:00|81.25466677347819| 32.09609999974569| 0.1823231962067075|0.6698896481144813| 0.12214216527655178|  Highly Engaged|\n",
      "|       7|  R3|         1|          1| 16|2025-06-02 10:55:00|83.31206672668458|30.882199986775717|0.06692810590456551|0.8627627087490899|-0.13621666791257062|  Highly Engaged|\n",
      "|       7|  R3|        12|          1| 16|2025-06-02 10:55:00|84.71183344523112|31.020599892934165| 0.3389558720837037|              NULL|-0.01604738509554...|         Engaged|\n",
      "|       7|  R3|        19|          1| 16|2025-06-02 10:55:00|77.89306663513183| 31.63719985961914|0.34075033652596176|0.8437885046005249| 0.17251202793549358|  Highly Engaged|\n",
      "|       7|  R3|        21|          1| 15|2025-06-02 10:55:00|96.89173352559408|29.075799973805747| 0.2409935087157646|              NULL| 0.14733649224615267|  Highly Engaged|\n",
      "+--------+----+----------+-----------+---+-------------------+-----------------+------------------+-------------------+------------------+--------------------+----------------+\n",
      "only showing top 5 rows\n",
      "\n"
     ]
    },
    {
     "name": "stderr",
     "output_type": "stream",
     "text": [
      "                                                                                \r"
     ]
    }
   ],
   "source": [
    "df_clean.show(5)"
   ]
  },
  {
   "cell_type": "code",
   "execution_count": 28,
   "id": "6809ed9f",
   "metadata": {},
   "outputs": [
    {
     "name": "stderr",
     "output_type": "stream",
     "text": [
      "[Stage 35:>                                                         (0 + 1) / 1]\r"
     ]
    },
    {
     "name": "stdout",
     "output_type": "stream",
     "text": [
      "+--------+----+----------+-----------+---+-----------+-------+---------+--------+--------+--------+----------------+\n",
      "|class_id|room|student_id|gender_code|age|time_format|hr_mean|temp_mean|eda_mean|ibi_mean|bvp_mean|engagement_level|\n",
      "+--------+----+----------+-----------+---+-----------+-------+---------+--------+--------+--------+----------------+\n",
      "|       0|   0|         0|          0|  0|          0|      0|        0|       2|      52|       0|               0|\n",
      "+--------+----+----------+-----------+---+-----------+-------+---------+--------+--------+--------+----------------+\n",
      "\n"
     ]
    },
    {
     "name": "stderr",
     "output_type": "stream",
     "text": [
      "                                                                                \r"
     ]
    }
   ],
   "source": [
    "null_value = df_clean.select([F.sum(F.col(cols).isNull().cast('int')).alias(cols) for cols in df_clean.columns])\n",
    "null_value.show()"
   ]
  },
  {
   "cell_type": "code",
   "execution_count": 56,
   "id": "d89928ee",
   "metadata": {},
   "outputs": [
    {
     "name": "stderr",
     "output_type": "stream",
     "text": [
      "                                                                                \r"
     ]
    }
   ],
   "source": [
    "imputer = Imputer(inputCols=['eda_mean','ibi_mean'],\n",
    "                  outputCols=['eda_mean_inputed','ibi_mean_inputed'],\n",
    "                  strategy='mean')\n",
    "df = imputer.fit(df_clean).transform(df_clean)\n",
    "\n",
    "df = df.drop('ibi_mean','eda_mean')\n",
    "df = df.withColumnRenamed('eda_mean_inputed','eda_mean') \\\n",
    "        .withColumnRenamed('ibi_mean_inputed','ibi_mean')"
   ]
  },
  {
   "cell_type": "code",
   "execution_count": 57,
   "id": "6ec21a38",
   "metadata": {},
   "outputs": [
    {
     "name": "stderr",
     "output_type": "stream",
     "text": [
      "[Stage 107:>                                                        (0 + 1) / 1]\r"
     ]
    },
    {
     "name": "stdout",
     "output_type": "stream",
     "text": [
      "+--------+----+----------+-----------+---+-----------+-------+---------+--------+----------------+--------+--------+\n",
      "|class_id|room|student_id|gender_code|age|time_format|hr_mean|temp_mean|bvp_mean|engagement_level|eda_mean|ibi_mean|\n",
      "+--------+----+----------+-----------+---+-----------+-------+---------+--------+----------------+--------+--------+\n",
      "|       0|   0|         0|          0|  0|          0|      0|        0|       0|               0|       0|       0|\n",
      "+--------+----+----------+-----------+---+-----------+-------+---------+--------+----------------+--------+--------+\n",
      "\n"
     ]
    },
    {
     "name": "stderr",
     "output_type": "stream",
     "text": [
      "                                                                                \r"
     ]
    }
   ],
   "source": [
    "null_value = df.select([F.sum(F.col(cols).isNull().cast('int')).alias(cols) for cols in df.columns])\n",
    "null_value.show()"
   ]
  },
  {
   "cell_type": "code",
   "execution_count": 58,
   "id": "f28ab119",
   "metadata": {},
   "outputs": [],
   "source": [
    "df = df.distinct()"
   ]
  },
  {
   "cell_type": "code",
   "execution_count": 59,
   "id": "df9ffe67",
   "metadata": {},
   "outputs": [
    {
     "name": "stderr",
     "output_type": "stream",
     "text": [
      "[Stage 111:>                                                        (0 + 1) / 1]\r"
     ]
    },
    {
     "name": "stdout",
     "output_type": "stream",
     "text": [
      "+--------+----+----------+-----------+---+-----------------+------------------+--------------------+----------------+-------------------+------------------+---------+\n",
      "|class_id|room|student_id|gender_code|age|          hr_mean|         temp_mean|            bvp_mean|engagement_level|           eda_mean|          ibi_mean|timestamp|\n",
      "+--------+----+----------+-----------+---+-----------------+------------------+--------------------+----------------+-------------------+------------------+---------+\n",
      "|       7|  R3|        21|          1| 15|96.89173352559408|29.075799973805747| 0.14733649224615267|  Highly Engaged| 0.2409935087157646|0.7601556011424158| 10:55:00|\n",
      "|     202|  R1|        20|          1| 16|84.53866225022536|   32.529366131322|0.024287718439838422|  Highly Engaged|0.15323040743138613|0.7591810502657076| 14:15:00|\n",
      "|      78|  R3|         1|          1| 16|71.10822733748319| 32.39248572278758|-0.03438250654092...|     Not Engaged|0.16132125217433368|0.8025367164611816| 11:25:00|\n",
      "|     107|  R2|         7|          1| 15|83.33713343302409|27.814800027211508|0.004243224004070...|     Not Engaged|0.16911867160350083|0.7535067664252387| 10:50:00|\n",
      "|     161|  R1|        10|          1| 15|92.01420000712076|32.538799896240235|0.013165624121029396|     Not Engaged|  0.343952368820707|0.7671844915645879| 13:20:00|\n",
      "+--------+----+----------+-----------+---+-----------------+------------------+--------------------+----------------+-------------------+------------------+---------+\n",
      "only showing top 5 rows\n",
      "\n"
     ]
    },
    {
     "name": "stderr",
     "output_type": "stream",
     "text": [
      "                                                                                \r"
     ]
    }
   ],
   "source": [
    "df = df.withColumn('timestamp', F.date_format('time_format', 'HH:mm:ss')).drop('time_format')\n",
    "df.show(5)"
   ]
  },
  {
   "cell_type": "code",
   "execution_count": 60,
   "id": "7b6adb67",
   "metadata": {},
   "outputs": [],
   "source": [
    "df = df.select('class_id','room','student_id','gender_code','age','timestamp','hr_mean','temp_mean','eda_mean','ibi_mean','bvp_mean','engagement_level')"
   ]
  },
  {
   "cell_type": "code",
   "execution_count": 63,
   "id": "0094ab52",
   "metadata": {},
   "outputs": [
    {
     "name": "stderr",
     "output_type": "stream",
     "text": [
      "                                                                                \r"
     ]
    }
   ],
   "source": [
    "df_pd = df.toPandas()\n",
    "csv_buffer = io.StringIO()\n",
    "df_pd.to_csv(csv_buffer, index=False)\n",
    "csv_data = csv_buffer.getvalue()\n",
    "csv_buffer.close()"
   ]
  },
  {
   "cell_type": "code",
   "execution_count": 68,
   "id": "f61c7888",
   "metadata": {},
   "outputs": [],
   "source": [
    "client = storage.Client()\n",
    "os.environ['GOOGLE_APPLICATION_CREDENTIALS']='/home/Bagas/project/credentials/credential.json'"
   ]
  },
  {
   "cell_type": "code",
   "execution_count": 69,
   "id": "414ff15a",
   "metadata": {},
   "outputs": [
    {
     "name": "stdout",
     "output_type": "stream",
     "text": [
      "DataFrame uploaded to gs://<Bucket: project-abd>/notebook-data/fusion_data.csv as CSV\n"
     ]
    }
   ],
   "source": [
    "bucket = client.get_bucket('project-abd')\n",
    "destination_file = 'notebook-data/fusion_data.csv'\n",
    "blob_csv = bucket.blob(destination_file)\n",
    "blob_csv.upload_from_string(csv_data, content_type='text/csv')\n",
    "print(f\"DataFrame uploaded to gs://{bucket}/{destination_file} as CSV\")"
   ]
  }
 ],
 "metadata": {
  "kernelspec": {
   "display_name": "Python 3",
   "language": "python",
   "name": "python3"
  },
  "language_info": {
   "codemirror_mode": {
    "name": "ipython",
    "version": 3
   },
   "file_extension": ".py",
   "mimetype": "text/x-python",
   "name": "python",
   "nbconvert_exporter": "python",
   "pygments_lexer": "ipython3",
   "version": "3.13.3"
  }
 },
 "nbformat": 4,
 "nbformat_minor": 5
}
