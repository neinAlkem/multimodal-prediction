{
 "cells": [
  {
   "cell_type": "code",
   "execution_count": 1,
   "id": "5540fc26",
   "metadata": {},
   "outputs": [],
   "source": [
    "import pandas as pd\n",
    "import numpy as np\n",
    "from google.cloud import storage\n",
    "from sklearn.preprocessing import LabelEncoder, MinMaxScaler\n",
    "from sklearn.model_selection import train_test_split, GridSearchCV, cross_val_score, KFold\n",
    "from sklearn.metrics import accuracy_score, precision_score, recall_score, f1_score, confusion_matrix, classification_report\n",
    "from dotenv import load_dotenv\n",
    "import seaborn as sns\n",
    "import matplotlib.pyplot as plt\n",
    "from imblearn.over_sampling import SMOTE\n",
    "\n",
    "import os"
   ]
  },
  {
   "cell_type": "code",
   "execution_count": 2,
   "id": "3acdc087",
   "metadata": {},
   "outputs": [],
   "source": [
    "load_dotenv()\n",
    "\n",
    "df = pd.read_csv('gs://project-abd/notebook-data/fusion_data.csv',  \n",
    "                 sep=',', \n",
    "                 storage_options={'token':os.getenv('CREDENTIAL')})"
   ]
  },
  {
   "cell_type": "code",
   "execution_count": 3,
   "id": "f236855b",
   "metadata": {},
   "outputs": [
    {
     "data": {
      "application/vnd.microsoft.datawrangler.viewer.v0+json": {
       "columns": [
        {
         "name": "index",
         "rawType": "int64",
         "type": "integer"
        },
        {
         "name": "class_id",
         "rawType": "int64",
         "type": "integer"
        },
        {
         "name": "room",
         "rawType": "object",
         "type": "string"
        },
        {
         "name": "student_id",
         "rawType": "int64",
         "type": "integer"
        },
        {
         "name": "gender_code",
         "rawType": "int64",
         "type": "integer"
        },
        {
         "name": "age",
         "rawType": "int64",
         "type": "integer"
        },
        {
         "name": "timestamp",
         "rawType": "object",
         "type": "string"
        },
        {
         "name": "hr_mean",
         "rawType": "float64",
         "type": "float"
        },
        {
         "name": "temp_mean",
         "rawType": "float64",
         "type": "float"
        },
        {
         "name": "eda_mean",
         "rawType": "float64",
         "type": "float"
        },
        {
         "name": "ibi_mean",
         "rawType": "float64",
         "type": "float"
        },
        {
         "name": "bvp_mean",
         "rawType": "float64",
         "type": "float"
        },
        {
         "name": "engagement_level",
         "rawType": "object",
         "type": "string"
        }
       ],
       "ref": "5cb53e40-40f3-4dcc-9522-cb2370b26be7",
       "rows": [
        [
         "0",
         "7",
         "R3",
         "21",
         "1",
         "15",
         "10:55:00",
         "96.89173352559408",
         "29.075799973805747",
         "0.2409935087157646",
         "0.7601556011424158",
         "0.1473364922461526",
         "Highly Engaged"
        ],
        [
         "1",
         "202",
         "R1",
         "20",
         "1",
         "16",
         "14:15:00",
         "84.53866225022536",
         "32.529366131322",
         "0.1532304074313861",
         "0.7591810502657076",
         "0.0242877184398384",
         "Highly Engaged"
        ],
        [
         "2",
         "78",
         "R3",
         "1",
         "1",
         "16",
         "11:25:00",
         "71.10822733748319",
         "32.39248572278758",
         "0.1613212521743336",
         "0.8025367164611816",
         "-0.0343825065409224",
         "Not Engaged"
        ],
        [
         "3",
         "107",
         "R2",
         "7",
         "1",
         "15",
         "10:50:00",
         "83.33713343302409",
         "27.814800027211508",
         "0.1691186716035008",
         "0.7535067664252387",
         "0.0042432240040701",
         "Not Engaged"
        ],
        [
         "4",
         "161",
         "R1",
         "10",
         "1",
         "15",
         "13:20:00",
         "92.01420000712076",
         "32.538799896240235",
         "0.343952368820707",
         "0.7671844915645879",
         "0.0131656241210293",
         "Not Engaged"
        ]
       ],
       "shape": {
        "columns": 12,
        "rows": 5
       }
      },
      "text/html": [
       "<div>\n",
       "<style scoped>\n",
       "    .dataframe tbody tr th:only-of-type {\n",
       "        vertical-align: middle;\n",
       "    }\n",
       "\n",
       "    .dataframe tbody tr th {\n",
       "        vertical-align: top;\n",
       "    }\n",
       "\n",
       "    .dataframe thead th {\n",
       "        text-align: right;\n",
       "    }\n",
       "</style>\n",
       "<table border=\"1\" class=\"dataframe\">\n",
       "  <thead>\n",
       "    <tr style=\"text-align: right;\">\n",
       "      <th></th>\n",
       "      <th>class_id</th>\n",
       "      <th>room</th>\n",
       "      <th>student_id</th>\n",
       "      <th>gender_code</th>\n",
       "      <th>age</th>\n",
       "      <th>timestamp</th>\n",
       "      <th>hr_mean</th>\n",
       "      <th>temp_mean</th>\n",
       "      <th>eda_mean</th>\n",
       "      <th>ibi_mean</th>\n",
       "      <th>bvp_mean</th>\n",
       "      <th>engagement_level</th>\n",
       "    </tr>\n",
       "  </thead>\n",
       "  <tbody>\n",
       "    <tr>\n",
       "      <th>0</th>\n",
       "      <td>7</td>\n",
       "      <td>R3</td>\n",
       "      <td>21</td>\n",
       "      <td>1</td>\n",
       "      <td>15</td>\n",
       "      <td>10:55:00</td>\n",
       "      <td>96.891734</td>\n",
       "      <td>29.075800</td>\n",
       "      <td>0.240994</td>\n",
       "      <td>0.760156</td>\n",
       "      <td>0.147336</td>\n",
       "      <td>Highly Engaged</td>\n",
       "    </tr>\n",
       "    <tr>\n",
       "      <th>1</th>\n",
       "      <td>202</td>\n",
       "      <td>R1</td>\n",
       "      <td>20</td>\n",
       "      <td>1</td>\n",
       "      <td>16</td>\n",
       "      <td>14:15:00</td>\n",
       "      <td>84.538662</td>\n",
       "      <td>32.529366</td>\n",
       "      <td>0.153230</td>\n",
       "      <td>0.759181</td>\n",
       "      <td>0.024288</td>\n",
       "      <td>Highly Engaged</td>\n",
       "    </tr>\n",
       "    <tr>\n",
       "      <th>2</th>\n",
       "      <td>78</td>\n",
       "      <td>R3</td>\n",
       "      <td>1</td>\n",
       "      <td>1</td>\n",
       "      <td>16</td>\n",
       "      <td>11:25:00</td>\n",
       "      <td>71.108227</td>\n",
       "      <td>32.392486</td>\n",
       "      <td>0.161321</td>\n",
       "      <td>0.802537</td>\n",
       "      <td>-0.034383</td>\n",
       "      <td>Not Engaged</td>\n",
       "    </tr>\n",
       "    <tr>\n",
       "      <th>3</th>\n",
       "      <td>107</td>\n",
       "      <td>R2</td>\n",
       "      <td>7</td>\n",
       "      <td>1</td>\n",
       "      <td>15</td>\n",
       "      <td>10:50:00</td>\n",
       "      <td>83.337133</td>\n",
       "      <td>27.814800</td>\n",
       "      <td>0.169119</td>\n",
       "      <td>0.753507</td>\n",
       "      <td>0.004243</td>\n",
       "      <td>Not Engaged</td>\n",
       "    </tr>\n",
       "    <tr>\n",
       "      <th>4</th>\n",
       "      <td>161</td>\n",
       "      <td>R1</td>\n",
       "      <td>10</td>\n",
       "      <td>1</td>\n",
       "      <td>15</td>\n",
       "      <td>13:20:00</td>\n",
       "      <td>92.014200</td>\n",
       "      <td>32.538800</td>\n",
       "      <td>0.343952</td>\n",
       "      <td>0.767184</td>\n",
       "      <td>0.013166</td>\n",
       "      <td>Not Engaged</td>\n",
       "    </tr>\n",
       "  </tbody>\n",
       "</table>\n",
       "</div>"
      ],
      "text/plain": [
       "   class_id room  student_id  gender_code  age timestamp    hr_mean  \\\n",
       "0         7   R3          21            1   15  10:55:00  96.891734   \n",
       "1       202   R1          20            1   16  14:15:00  84.538662   \n",
       "2        78   R3           1            1   16  11:25:00  71.108227   \n",
       "3       107   R2           7            1   15  10:50:00  83.337133   \n",
       "4       161   R1          10            1   15  13:20:00  92.014200   \n",
       "\n",
       "   temp_mean  eda_mean  ibi_mean  bvp_mean engagement_level  \n",
       "0  29.075800  0.240994  0.760156  0.147336   Highly Engaged  \n",
       "1  32.529366  0.153230  0.759181  0.024288   Highly Engaged  \n",
       "2  32.392486  0.161321  0.802537 -0.034383      Not Engaged  \n",
       "3  27.814800  0.169119  0.753507  0.004243      Not Engaged  \n",
       "4  32.538800  0.343952  0.767184  0.013166      Not Engaged  "
      ]
     },
     "execution_count": 3,
     "metadata": {},
     "output_type": "execute_result"
    }
   ],
   "source": [
    "df.head()"
   ]
  },
  {
   "cell_type": "code",
   "execution_count": 4,
   "id": "6cfee45b",
   "metadata": {},
   "outputs": [
    {
     "data": {
      "application/vnd.microsoft.datawrangler.viewer.v0+json": {
       "columns": [
        {
         "name": "engagement_level",
         "rawType": "object",
         "type": "string"
        },
        {
         "name": "count",
         "rawType": "int64",
         "type": "integer"
        }
       ],
       "ref": "ed567ba3-b567-4acb-9cc2-dff66f1a4040",
       "rows": [
        [
         "Highly Engaged",
         "118"
        ],
        [
         "Not Engaged",
         "93"
        ],
        [
         "Engaged",
         "37"
        ]
       ],
       "shape": {
        "columns": 1,
        "rows": 3
       }
      },
      "text/plain": [
       "engagement_level\n",
       "Highly Engaged    118\n",
       "Not Engaged        93\n",
       "Engaged            37\n",
       "Name: count, dtype: int64"
      ]
     },
     "execution_count": 4,
     "metadata": {},
     "output_type": "execute_result"
    }
   ],
   "source": [
    "df['engagement_level'].value_counts()"
   ]
  },
  {
   "cell_type": "code",
   "execution_count": 5,
   "id": "7e86da50",
   "metadata": {},
   "outputs": [],
   "source": [
    "data_prep = df"
   ]
  },
  {
   "cell_type": "code",
   "execution_count": 6,
   "id": "d06c886b",
   "metadata": {},
   "outputs": [
    {
     "name": "stderr",
     "output_type": "stream",
     "text": [
      "/tmp/ipykernel_274284/539975229.py:1: FutureWarning: A value is trying to be set on a copy of a DataFrame or Series through chained assignment using an inplace method.\n",
      "The behavior will change in pandas 3.0. This inplace method will never work because the intermediate object on which we are setting values always behaves as a copy.\n",
      "\n",
      "For example, when doing 'df[col].method(value, inplace=True)', try using 'df.method({col: value}, inplace=True)' or df[col] = df[col].method(value) instead, to perform the operation inplace on the original object.\n",
      "\n",
      "\n",
      "  data_prep['engagement_level'].replace('Engaged', 'Not Engaged', inplace=True)\n"
     ]
    }
   ],
   "source": [
    "data_prep['engagement_level'].replace('Engaged', 'Not Engaged', inplace=True)"
   ]
  },
  {
   "cell_type": "code",
   "execution_count": 7,
   "id": "4204d8b0",
   "metadata": {},
   "outputs": [
    {
     "data": {
      "application/vnd.microsoft.datawrangler.viewer.v0+json": {
       "columns": [
        {
         "name": "engagement_level",
         "rawType": "object",
         "type": "string"
        },
        {
         "name": "count",
         "rawType": "int64",
         "type": "integer"
        }
       ],
       "ref": "c3d3b54f-6f52-4930-9fa5-16cab34734b2",
       "rows": [
        [
         "Not Engaged",
         "130"
        ],
        [
         "Highly Engaged",
         "118"
        ]
       ],
       "shape": {
        "columns": 1,
        "rows": 2
       }
      },
      "text/plain": [
       "engagement_level\n",
       "Not Engaged       130\n",
       "Highly Engaged    118\n",
       "Name: count, dtype: int64"
      ]
     },
     "execution_count": 7,
     "metadata": {},
     "output_type": "execute_result"
    }
   ],
   "source": [
    "data_prep['engagement_level'].value_counts()"
   ]
  },
  {
   "cell_type": "code",
   "execution_count": 8,
   "id": "c34543b7",
   "metadata": {},
   "outputs": [],
   "source": [
    "categorical_columns = data_prep[['room','engagement_level']]\n",
    "label_encoders = {}\n",
    "\n",
    "for col in categorical_columns.columns:\n",
    "    le = LabelEncoder()\n",
    "    data_prep[col] = le.fit_transform(data_prep[col])\n",
    "    label_encoders[col] = le"
   ]
  },
  {
   "cell_type": "code",
   "execution_count": 9,
   "id": "46984980",
   "metadata": {},
   "outputs": [
    {
     "data": {
      "application/vnd.microsoft.datawrangler.viewer.v0+json": {
       "columns": [
        {
         "name": "index",
         "rawType": "int64",
         "type": "integer"
        },
        {
         "name": "class_id",
         "rawType": "int64",
         "type": "integer"
        },
        {
         "name": "room",
         "rawType": "int64",
         "type": "integer"
        },
        {
         "name": "student_id",
         "rawType": "int64",
         "type": "integer"
        },
        {
         "name": "gender_code",
         "rawType": "int64",
         "type": "integer"
        },
        {
         "name": "age",
         "rawType": "int64",
         "type": "integer"
        },
        {
         "name": "timestamp",
         "rawType": "object",
         "type": "string"
        },
        {
         "name": "hr_mean",
         "rawType": "float64",
         "type": "float"
        },
        {
         "name": "temp_mean",
         "rawType": "float64",
         "type": "float"
        },
        {
         "name": "eda_mean",
         "rawType": "float64",
         "type": "float"
        },
        {
         "name": "ibi_mean",
         "rawType": "float64",
         "type": "float"
        },
        {
         "name": "bvp_mean",
         "rawType": "float64",
         "type": "float"
        },
        {
         "name": "engagement_level",
         "rawType": "int64",
         "type": "integer"
        }
       ],
       "ref": "f9189582-c0d1-4bb8-8cfa-8266982db085",
       "rows": [
        [
         "0",
         "7",
         "2",
         "21",
         "1",
         "15",
         "10:55:00",
         "96.89173352559408",
         "29.075799973805747",
         "0.2409935087157646",
         "0.7601556011424158",
         "0.1473364922461526",
         "0"
        ],
        [
         "1",
         "202",
         "0",
         "20",
         "1",
         "16",
         "14:15:00",
         "84.53866225022536",
         "32.529366131322",
         "0.1532304074313861",
         "0.7591810502657076",
         "0.0242877184398384",
         "0"
        ],
        [
         "2",
         "78",
         "2",
         "1",
         "1",
         "16",
         "11:25:00",
         "71.10822733748319",
         "32.39248572278758",
         "0.1613212521743336",
         "0.8025367164611816",
         "-0.0343825065409224",
         "1"
        ],
        [
         "3",
         "107",
         "1",
         "7",
         "1",
         "15",
         "10:50:00",
         "83.33713343302409",
         "27.814800027211508",
         "0.1691186716035008",
         "0.7535067664252387",
         "0.0042432240040701",
         "1"
        ],
        [
         "4",
         "161",
         "0",
         "10",
         "1",
         "15",
         "13:20:00",
         "92.01420000712076",
         "32.538799896240235",
         "0.343952368820707",
         "0.7671844915645879",
         "0.0131656241210293",
         "1"
        ],
        [
         "5",
         "167",
         "4",
         "20",
         "1",
         "16",
         "15:30:00",
         "76.47506660461426",
         "34.356366831461585",
         "0.2933238393068313",
         "0.7571548449842236",
         "-0.074556782573054",
         "0"
        ],
        [
         "6",
         "176",
         "0",
         "22",
         "1",
         "16",
         "12:10:00",
         "81.8302186840642",
         "27.054852934444654",
         "0.2849439690985224",
         "0.7601556011424158",
         "0.0365193350820679",
         "1"
        ],
        [
         "7",
         "183",
         "0",
         "21",
         "1",
         "15",
         "15:30:00",
         "73.87019981384277",
         "30.628599974314373",
         "0.492664229820172",
         "0.7601556011424158",
         "-0.2701713526116994",
         "0"
        ],
        [
         "8",
         "214",
         "0",
         "20",
         "1",
         "16",
         "11:30:00",
         "80.57305000305176",
         "33.59446690241496",
         "1.0225371244953323",
         "0.7520485422573984",
         "-0.0117945309162314",
         "0"
        ],
        [
         "9",
         "115",
         "1",
         "7",
         "1",
         "15",
         "14:55:00",
         "68.37236654917399",
         "30.623866589864097",
         "0.3756308251743515",
         "0.7601556011424158",
         "0.2020817784872876",
         "1"
        ],
        [
         "10",
         "241",
         "3",
         "3",
         "1",
         "16",
         "10:50:00",
         "78.72706665039063",
         "35.34100058237711",
         "0.4523145997027556",
         "0.7138998098671436",
         "-0.0081000228989675",
         "1"
        ],
        [
         "11",
         "38",
         "2",
         "6",
         "1",
         "16",
         "12:40:00",
         "89.59716659545899",
         "33.27033360799154",
         "0.5386486905813217",
         "0.7601556011424158",
         "-0.0209979524222823",
         "1"
        ],
        [
         "12",
         "80",
         "2",
         "2",
         "1",
         "17",
         "14:15:00",
         "116.4568561056386",
         "33.138982787144194",
         "0.695264490422256",
         "0.535738868372781",
         "-0.0118287413277376",
         "0"
        ],
        [
         "13",
         "109",
         "1",
         "12",
         "1",
         "16",
         "13:20:00",
         "86.10076662699382",
         "31.47733336130778",
         "0.307412990219891",
         "0.9716353660280054",
         "-0.0418812787295125",
         "1"
        ],
        [
         "14",
         "15",
         "2",
         "1",
         "1",
         "16",
         "15:30:00",
         "88.40356658935546",
         "35.007600161234535",
         "0.8169537310736875",
         "0.6406543535344741",
         "-0.3483963656545772",
         "0"
        ],
        [
         "15",
         "171",
         "0",
         "4",
         "1",
         "16",
         "13:15:00",
         "80.59636657714844",
         "34.379734179178875",
         "0.7718476935724418",
         "0.7144857674837113",
         "0.0353224170559163",
         "0"
        ],
        [
         "16",
         "91",
         "1",
         "8",
         "1",
         "16",
         "10:25:00",
         "88.8403665415446",
         "30.45586678187052",
         "0.0615319061628542",
         "0.9844200015068054",
         "-0.2067431987617358",
         "0"
        ],
        [
         "17",
         "94",
         "1",
         "7",
         "1",
         "15",
         "14:15:00",
         "94.93207348469508",
         "32.283761566136654",
         "1.2772636319618609",
         "0.6045199073851109",
         "0.0327647159204854",
         "1"
        ],
        [
         "18",
         "172",
         "0",
         "11",
         "1",
         "16",
         "15:25:00",
         "72.84094588820999",
         "34.20669662682719",
         "0.4648869011401877",
         "0.8654241222601671",
         "-0.0903889622714685",
         "0"
        ],
        [
         "19",
         "199",
         "0",
         "15",
         "1",
         "16",
         "10:55:00",
         "83.5700665918986",
         "30.41606672286987",
         "0.8035845693635444",
         "0.7601556011424158",
         "-0.067156274037649",
         "1"
        ],
        [
         "20",
         "128",
         "1",
         "23",
         "1",
         "16",
         "12:20:00",
         "76.07323331197102",
         "29.896933288574218",
         "0.0729768667577688",
         "0.9687939882278442",
         "-0.076178644215203",
         "0"
        ],
        [
         "21",
         "176",
         "0",
         "14",
         "1",
         "16",
         "12:10:00",
         "84.53653698169721",
         "31.702597845491564",
         "0.330679911638165",
         "0.6146113276481628",
         "0.0366209500519141",
         "1"
        ],
        [
         "22",
         "49",
         "2",
         "6",
         "1",
         "16",
         "13:10:00",
         "100.8058332824707",
         "34.30040017445882",
         "3.500076202452183",
         "0.7601556011424158",
         "0.1563025996271365",
         "1"
        ],
        [
         "23",
         "29",
         "2",
         "5",
         "1",
         "16",
         "13:20:00",
         "81.69593315124511",
         "33.97823341369629",
         "2.1672670883933702",
         "0.9401468336582184",
         "-0.069057286477085",
         "0"
        ],
        [
         "24",
         "49",
         "2",
         "3",
         "1",
         "16",
         "13:15:00",
         "86.76973335266113",
         "34.09176700592041",
         "9.90056709945202",
         "0.4843970040480296",
         "-0.0815020388985673",
         "1"
        ],
        [
         "25",
         "238",
         "3",
         "18",
         "1",
         "16",
         "13:00:00",
         "75.44120002746583",
         "29.515599943796797",
         "0.0850545965988809",
         "0.8917074382305146",
         "-0.0822906252872781",
         "1"
        ],
        [
         "26",
         "55",
         "2",
         "1",
         "1",
         "16",
         "14:20:00",
         "94.81976679484048",
         "36.128733469645184",
         "8.441096126238506",
         "0.6412378077190447",
         "0.1833468922820369",
         "1"
        ],
        [
         "27",
         "75",
         "2",
         "19",
         "1",
         "16",
         "15:20:00",
         "108.09066655476887",
         "34.895900357564294",
         "0.175784672225515",
         "0.7601556011424158",
         "-0.1503130535817278",
         "0"
        ],
        [
         "28",
         "94",
         "1",
         "20",
         "1",
         "16",
         "15:30:00",
         "86.90261389992453",
         "33.45812997745194",
         "0.9037359647262414",
         "0.7058135479688644",
         "0.0113176846833551",
         "0"
        ],
        [
         "29",
         "199",
         "0",
         "19",
         "1",
         "16",
         "10:50:00",
         "81.57293350219726",
         "30.331866614023845",
         "0.1769657253225644",
         "0.7857501442943301",
         "-0.0619276166852796",
         "1"
        ],
        [
         "30",
         "29",
         "2",
         "7",
         "1",
         "15",
         "13:20:00",
         "96.85626663208008",
         "31.535799910227457",
         "1.0827564452091851",
         "0.6719058156013489",
         "-0.0048484389908844",
         "0"
        ],
        [
         "31",
         "214",
         "0",
         "15",
         "1",
         "16",
         "11:30:00",
         "80.26569998423258",
         "34.09486705780029",
         "0.796215956712064",
         "0.8333713293075562",
         "-0.3548974392868695",
         "0"
        ],
        [
         "32",
         "176",
         "0",
         "15",
         "1",
         "16",
         "12:05:00",
         "97.51083621532224",
         "30.33547125586477",
         "0.7075701000685847",
         "0.5796341465337433",
         "0.0144320166704663",
         "1"
        ],
        [
         "33",
         "15",
         "2",
         "19",
         "1",
         "16",
         "15:10:00",
         "97.03583338419595",
         "33.58903381347656",
         "0.0907077203691005",
         "0.708365668853124",
         "0.0022895132969521",
         "0"
        ],
        [
         "34",
         "96",
         "4",
         "11",
         "1",
         "16",
         "10:45:00",
         "85.99663324991862",
         "33.22760061899821",
         "0.3895885701477528",
         "0.863020305450146",
         "0.0751265889777763",
         "1"
        ],
        [
         "35",
         "10",
         "2",
         "6",
         "1",
         "16",
         "15:30:00",
         "81.09876414095417",
         "34.33840946717696",
         "0.4980446091609668",
         "0.7601556011424158",
         "-0.1125860415041356",
         "0"
        ],
        [
         "36",
         "81",
         "1",
         "9",
         "1",
         "17",
         "10:55:00",
         "95.82569999694825",
         "28.17699998219808",
         "0.0678833279355118",
         "0.9219172447919846",
         "-0.0492276006015405",
         "0"
        ],
        [
         "37",
         "206",
         "0",
         "19",
         "1",
         "16",
         "12:10:00",
         "78.97213347117106",
         "33.93513350168864",
         "0.1645950456615537",
         "0.7772961296933762",
         "0.0153666571453019",
         "0"
        ],
        [
         "38",
         "193",
         "0",
         "5",
         "1",
         "16",
         "15:30:00",
         "70.96706708496957",
         "36.108683623453054",
         "0.3492391672704107",
         "0.9034503874453632",
         "-0.0776544864131651",
         "0"
        ],
        [
         "39",
         "73",
         "4",
         "2",
         "1",
         "17",
         "11:35:00",
         "84.4274664815267",
         "34.72859990437826",
         "0.2269823805863658",
         "0.7290597789562665",
         "0.0459750038467852",
         "1"
        ],
        [
         "40",
         "167",
         "4",
         "14",
         "1",
         "16",
         "15:30:00",
         "91.75643325805665",
         "34.09260031382243",
         "3.26325806265076",
         "0.7835180631705693",
         "-0.1555099429212471",
         "1"
        ],
        [
         "41",
         "202",
         "0",
         "18",
         "1",
         "16",
         "14:20:00",
         "93.8858667755127",
         "31.7479333559672",
         "0.179721691791589",
         "0.6375291387240092",
         "-0.0324046938413327",
         "1"
        ],
        [
         "42",
         "227",
         "0",
         "19",
         "1",
         "16",
         "10:50:00",
         "82.95096672058105",
         "35.396433194478355",
         "1.1298499300392966",
         "0.6998558993070898",
         "0.1678880382021695",
         "1"
        ],
        [
         "43",
         "205",
         "0",
         "10",
         "1",
         "15",
         "11:25:00",
         "128.02896332501567",
         "22.4360217554953",
         "0.0",
         "0.3854343295097351",
         "0.0004849207320595",
         "1"
        ],
        [
         "44",
         "10",
         "2",
         "5",
         "1",
         "16",
         "15:30:00",
         "68.19756770778346",
         "31.19054791698717",
         "0.2147247544537317",
         "0.7601556011424158",
         "-0.0659290354281195",
         "0"
        ],
        [
         "45",
         "169",
         "0",
         "14",
         "1",
         "16",
         "10:55:00",
         "77.9960336558024",
         "29.80999994913737",
         "0.1850242223621656",
         "0.796911338965098",
         "-0.0675421234843088",
         "1"
        ],
        [
         "46",
         "206",
         "0",
         "16",
         "1",
         "16",
         "12:10:00",
         "77.01729988098144",
         "34.89886684417725",
         "0.3530117400735617",
         "0.7722010016441345",
         "-0.0579364599148781",
         "0"
        ],
        [
         "47",
         "201",
         "0",
         "7",
         "1",
         "15",
         "13:10:00",
         "90.64269994099936",
         "27.371266549428302",
         "0.8149409653587888",
         "0.7601556011424158",
         "-0.0607864245936313",
         "1"
        ],
        [
         "48",
         "7",
         "2",
         "19",
         "1",
         "16",
         "10:55:00",
         "77.89306663513183",
         "31.63719985961914",
         "0.3407503365259617",
         "0.8437885046005249",
         "0.1725120279354935",
         "0"
        ],
        [
         "49",
         "167",
         "4",
         "15",
         "1",
         "16",
         "15:20:00",
         "76.94336672465006",
         "32.22226650238037",
         "0.5220169810411365",
         "0.8219125986099243",
         "-0.0119166552885629",
         "0"
        ]
       ],
       "shape": {
        "columns": 12,
        "rows": 248
       }
      },
      "text/html": [
       "<div>\n",
       "<style scoped>\n",
       "    .dataframe tbody tr th:only-of-type {\n",
       "        vertical-align: middle;\n",
       "    }\n",
       "\n",
       "    .dataframe tbody tr th {\n",
       "        vertical-align: top;\n",
       "    }\n",
       "\n",
       "    .dataframe thead th {\n",
       "        text-align: right;\n",
       "    }\n",
       "</style>\n",
       "<table border=\"1\" class=\"dataframe\">\n",
       "  <thead>\n",
       "    <tr style=\"text-align: right;\">\n",
       "      <th></th>\n",
       "      <th>class_id</th>\n",
       "      <th>room</th>\n",
       "      <th>student_id</th>\n",
       "      <th>gender_code</th>\n",
       "      <th>age</th>\n",
       "      <th>timestamp</th>\n",
       "      <th>hr_mean</th>\n",
       "      <th>temp_mean</th>\n",
       "      <th>eda_mean</th>\n",
       "      <th>ibi_mean</th>\n",
       "      <th>bvp_mean</th>\n",
       "      <th>engagement_level</th>\n",
       "    </tr>\n",
       "  </thead>\n",
       "  <tbody>\n",
       "    <tr>\n",
       "      <th>0</th>\n",
       "      <td>7</td>\n",
       "      <td>2</td>\n",
       "      <td>21</td>\n",
       "      <td>1</td>\n",
       "      <td>15</td>\n",
       "      <td>10:55:00</td>\n",
       "      <td>96.891734</td>\n",
       "      <td>29.075800</td>\n",
       "      <td>0.240994</td>\n",
       "      <td>0.760156</td>\n",
       "      <td>0.147336</td>\n",
       "      <td>0</td>\n",
       "    </tr>\n",
       "    <tr>\n",
       "      <th>1</th>\n",
       "      <td>202</td>\n",
       "      <td>0</td>\n",
       "      <td>20</td>\n",
       "      <td>1</td>\n",
       "      <td>16</td>\n",
       "      <td>14:15:00</td>\n",
       "      <td>84.538662</td>\n",
       "      <td>32.529366</td>\n",
       "      <td>0.153230</td>\n",
       "      <td>0.759181</td>\n",
       "      <td>0.024288</td>\n",
       "      <td>0</td>\n",
       "    </tr>\n",
       "    <tr>\n",
       "      <th>2</th>\n",
       "      <td>78</td>\n",
       "      <td>2</td>\n",
       "      <td>1</td>\n",
       "      <td>1</td>\n",
       "      <td>16</td>\n",
       "      <td>11:25:00</td>\n",
       "      <td>71.108227</td>\n",
       "      <td>32.392486</td>\n",
       "      <td>0.161321</td>\n",
       "      <td>0.802537</td>\n",
       "      <td>-0.034383</td>\n",
       "      <td>1</td>\n",
       "    </tr>\n",
       "    <tr>\n",
       "      <th>3</th>\n",
       "      <td>107</td>\n",
       "      <td>1</td>\n",
       "      <td>7</td>\n",
       "      <td>1</td>\n",
       "      <td>15</td>\n",
       "      <td>10:50:00</td>\n",
       "      <td>83.337133</td>\n",
       "      <td>27.814800</td>\n",
       "      <td>0.169119</td>\n",
       "      <td>0.753507</td>\n",
       "      <td>0.004243</td>\n",
       "      <td>1</td>\n",
       "    </tr>\n",
       "    <tr>\n",
       "      <th>4</th>\n",
       "      <td>161</td>\n",
       "      <td>0</td>\n",
       "      <td>10</td>\n",
       "      <td>1</td>\n",
       "      <td>15</td>\n",
       "      <td>13:20:00</td>\n",
       "      <td>92.014200</td>\n",
       "      <td>32.538800</td>\n",
       "      <td>0.343952</td>\n",
       "      <td>0.767184</td>\n",
       "      <td>0.013166</td>\n",
       "      <td>1</td>\n",
       "    </tr>\n",
       "    <tr>\n",
       "      <th>...</th>\n",
       "      <td>...</td>\n",
       "      <td>...</td>\n",
       "      <td>...</td>\n",
       "      <td>...</td>\n",
       "      <td>...</td>\n",
       "      <td>...</td>\n",
       "      <td>...</td>\n",
       "      <td>...</td>\n",
       "      <td>...</td>\n",
       "      <td>...</td>\n",
       "      <td>...</td>\n",
       "      <td>...</td>\n",
       "    </tr>\n",
       "    <tr>\n",
       "      <th>243</th>\n",
       "      <td>237</td>\n",
       "      <td>3</td>\n",
       "      <td>3</td>\n",
       "      <td>1</td>\n",
       "      <td>16</td>\n",
       "      <td>10:00:00</td>\n",
       "      <td>86.797033</td>\n",
       "      <td>32.615667</td>\n",
       "      <td>0.053965</td>\n",
       "      <td>0.919313</td>\n",
       "      <td>0.177886</td>\n",
       "      <td>0</td>\n",
       "    </tr>\n",
       "    <tr>\n",
       "      <th>244</th>\n",
       "      <td>17</td>\n",
       "      <td>2</td>\n",
       "      <td>3</td>\n",
       "      <td>1</td>\n",
       "      <td>16</td>\n",
       "      <td>10:55:00</td>\n",
       "      <td>92.064000</td>\n",
       "      <td>35.704634</td>\n",
       "      <td>0.310514</td>\n",
       "      <td>0.760156</td>\n",
       "      <td>-0.199961</td>\n",
       "      <td>0</td>\n",
       "    </tr>\n",
       "    <tr>\n",
       "      <th>245</th>\n",
       "      <td>162</td>\n",
       "      <td>4</td>\n",
       "      <td>20</td>\n",
       "      <td>1</td>\n",
       "      <td>16</td>\n",
       "      <td>15:30:00</td>\n",
       "      <td>85.151701</td>\n",
       "      <td>34.430209</td>\n",
       "      <td>1.119918</td>\n",
       "      <td>0.760156</td>\n",
       "      <td>-0.285726</td>\n",
       "      <td>0</td>\n",
       "    </tr>\n",
       "    <tr>\n",
       "      <th>246</th>\n",
       "      <td>89</td>\n",
       "      <td>1</td>\n",
       "      <td>12</td>\n",
       "      <td>1</td>\n",
       "      <td>16</td>\n",
       "      <td>15:20:00</td>\n",
       "      <td>84.232400</td>\n",
       "      <td>34.618134</td>\n",
       "      <td>0.465747</td>\n",
       "      <td>0.760156</td>\n",
       "      <td>0.368063</td>\n",
       "      <td>1</td>\n",
       "    </tr>\n",
       "    <tr>\n",
       "      <th>247</th>\n",
       "      <td>23</td>\n",
       "      <td>2</td>\n",
       "      <td>7</td>\n",
       "      <td>1</td>\n",
       "      <td>15</td>\n",
       "      <td>11:25:00</td>\n",
       "      <td>87.595452</td>\n",
       "      <td>27.878324</td>\n",
       "      <td>0.950357</td>\n",
       "      <td>0.720345</td>\n",
       "      <td>0.003013</td>\n",
       "      <td>0</td>\n",
       "    </tr>\n",
       "  </tbody>\n",
       "</table>\n",
       "<p>248 rows × 12 columns</p>\n",
       "</div>"
      ],
      "text/plain": [
       "     class_id  room  student_id  gender_code  age timestamp    hr_mean  \\\n",
       "0           7     2          21            1   15  10:55:00  96.891734   \n",
       "1         202     0          20            1   16  14:15:00  84.538662   \n",
       "2          78     2           1            1   16  11:25:00  71.108227   \n",
       "3         107     1           7            1   15  10:50:00  83.337133   \n",
       "4         161     0          10            1   15  13:20:00  92.014200   \n",
       "..        ...   ...         ...          ...  ...       ...        ...   \n",
       "243       237     3           3            1   16  10:00:00  86.797033   \n",
       "244        17     2           3            1   16  10:55:00  92.064000   \n",
       "245       162     4          20            1   16  15:30:00  85.151701   \n",
       "246        89     1          12            1   16  15:20:00  84.232400   \n",
       "247        23     2           7            1   15  11:25:00  87.595452   \n",
       "\n",
       "     temp_mean  eda_mean  ibi_mean  bvp_mean  engagement_level  \n",
       "0    29.075800  0.240994  0.760156  0.147336                 0  \n",
       "1    32.529366  0.153230  0.759181  0.024288                 0  \n",
       "2    32.392486  0.161321  0.802537 -0.034383                 1  \n",
       "3    27.814800  0.169119  0.753507  0.004243                 1  \n",
       "4    32.538800  0.343952  0.767184  0.013166                 1  \n",
       "..         ...       ...       ...       ...               ...  \n",
       "243  32.615667  0.053965  0.919313  0.177886                 0  \n",
       "244  35.704634  0.310514  0.760156 -0.199961                 0  \n",
       "245  34.430209  1.119918  0.760156 -0.285726                 0  \n",
       "246  34.618134  0.465747  0.760156  0.368063                 1  \n",
       "247  27.878324  0.950357  0.720345  0.003013                 0  \n",
       "\n",
       "[248 rows x 12 columns]"
      ]
     },
     "execution_count": 9,
     "metadata": {},
     "output_type": "execute_result"
    }
   ],
   "source": [
    "data_prep"
   ]
  },
  {
   "cell_type": "code",
   "execution_count": 10,
   "id": "2667593b",
   "metadata": {},
   "outputs": [],
   "source": [
    "target = data_prep['engagement_level']\n",
    "features = data_prep[['room','gender_code','age','hr_mean','temp_mean','eda_mean','ibi_mean','bvp_mean']]"
   ]
  },
  {
   "cell_type": "markdown",
   "id": "af9f3890",
   "metadata": {},
   "source": [
    "## Normal Splitting "
   ]
  },
  {
   "cell_type": "code",
   "execution_count": 11,
   "id": "74eb4565",
   "metadata": {},
   "outputs": [],
   "source": [
    "x_train, x_test, y_train, y_test = train_test_split(features, target, test_size=0.2, random_state=42)\n",
    "\n",
    "scaler = MinMaxScaler()\n",
    "x_train_scaled = scaler.fit_transform(x_train)\n",
    "x_test_scaled = scaler.transform(x_test)"
   ]
  },
  {
   "cell_type": "code",
   "execution_count": 12,
   "id": "2fa60d7e",
   "metadata": {},
   "outputs": [],
   "source": [
    "smote = SMOTE(random_state=42)\n",
    "x_train_sampled, y_train_sampled = smote.fit_resample(x_train_scaled, y_train)"
   ]
  },
  {
   "cell_type": "code",
   "execution_count": 13,
   "id": "abe04554",
   "metadata": {},
   "outputs": [],
   "source": [
    "def evaluate_model(model_name, model, x_test_scaled, y_test):\n",
    "    y_pred = model.predict(x_test_scaled)\n",
    "    print(f\"--- {model_name} ---\")\n",
    "    print(f\"Accuracy: {accuracy_score(y_test, y_pred):.4f}\")\n",
    "    print(\"Classification Report:\")\n",
    "    print(classification_report(y_test, y_pred))"
   ]
  },
  {
   "cell_type": "code",
   "execution_count": 14,
   "id": "8db6aff3",
   "metadata": {},
   "outputs": [
    {
     "name": "stdout",
     "output_type": "stream",
     "text": [
      "--- Logistic Regression ---\n",
      "Accuracy: 0.6000\n",
      "Classification Report:\n",
      "              precision    recall  f1-score   support\n",
      "\n",
      "           0       0.48      0.63      0.55        19\n",
      "           1       0.72      0.58      0.64        31\n",
      "\n",
      "    accuracy                           0.60        50\n",
      "   macro avg       0.60      0.61      0.59        50\n",
      "weighted avg       0.63      0.60      0.61        50\n",
      "\n"
     ]
    }
   ],
   "source": [
    "from sklearn.linear_model import LogisticRegression\n",
    "\n",
    "logreg_model = LogisticRegression(solver='liblinear', random_state=42, max_iter=10000, class_weight='balanced')\n",
    "logreg_model.fit(x_train_scaled, y_train)\n",
    "\n",
    "evaluate_model('Logistic Regression', logreg_model, x_test_scaled, y_test)"
   ]
  },
  {
   "cell_type": "code",
   "execution_count": 15,
   "id": "b4ad79b1",
   "metadata": {},
   "outputs": [
    {
     "name": "stdout",
     "output_type": "stream",
     "text": [
      "--- SVM ---\n",
      "Accuracy: 0.4400\n",
      "Classification Report:\n",
      "              precision    recall  f1-score   support\n",
      "\n",
      "           0       0.36      0.63      0.46        19\n",
      "           1       0.59      0.32      0.42        31\n",
      "\n",
      "    accuracy                           0.44        50\n",
      "   macro avg       0.48      0.48      0.44        50\n",
      "weighted avg       0.50      0.44      0.43        50\n",
      "\n"
     ]
    }
   ],
   "source": [
    "from sklearn.svm import SVC\n",
    "\n",
    "svm_model = SVC(kernel='sigmoid',max_iter=1000, random_state=42, gamma='scale', C=2.0, class_weight='balanced')\n",
    "svm_model.fit(x_train_scaled, y_train)\n",
    "\n",
    "evaluate_model('SVM', svm_model, x_test_scaled, y_test)"
   ]
  },
  {
   "cell_type": "code",
   "execution_count": 16,
   "id": "e087a13c",
   "metadata": {},
   "outputs": [
    {
     "name": "stdout",
     "output_type": "stream",
     "text": [
      "--- KNN ---\n",
      "Accuracy: 0.6400\n",
      "Classification Report:\n",
      "              precision    recall  f1-score   support\n",
      "\n",
      "           0       0.52      0.63      0.57        19\n",
      "           1       0.74      0.65      0.69        31\n",
      "\n",
      "    accuracy                           0.64        50\n",
      "   macro avg       0.63      0.64      0.63        50\n",
      "weighted avg       0.66      0.64      0.64        50\n",
      "\n"
     ]
    }
   ],
   "source": [
    "from sklearn.neighbors import KNeighborsClassifier\n",
    "\n",
    "knn_model = KNeighborsClassifier(n_neighbors=5)\n",
    "knn_model.fit(x_train_scaled, y_train)\n",
    "\n",
    "evaluate_model('KNN',knn_model, x_test_scaled, y_test)"
   ]
  },
  {
   "cell_type": "code",
   "execution_count": 17,
   "id": "f14a827d",
   "metadata": {},
   "outputs": [
    {
     "name": "stdout",
     "output_type": "stream",
     "text": [
      "--- Gaussian Naive Bayes ---\n",
      "Accuracy: 0.5800\n",
      "Classification Report:\n",
      "              precision    recall  f1-score   support\n",
      "\n",
      "           0       0.47      0.79      0.59        19\n",
      "           1       0.78      0.45      0.57        31\n",
      "\n",
      "    accuracy                           0.58        50\n",
      "   macro avg       0.62      0.62      0.58        50\n",
      "weighted avg       0.66      0.58      0.58        50\n",
      "\n"
     ]
    }
   ],
   "source": [
    "from sklearn.naive_bayes import GaussianNB\n",
    "\n",
    "gnb_model = GaussianNB()\n",
    "gnb_model.fit(x_train_scaled, y_train)\n",
    "\n",
    "evaluate_model(\"Gaussian Naive Bayes\", gnb_model, x_test_scaled, y_test)"
   ]
  },
  {
   "cell_type": "code",
   "execution_count": 18,
   "id": "958feb3c",
   "metadata": {},
   "outputs": [
    {
     "name": "stdout",
     "output_type": "stream",
     "text": [
      "--- Random Forest ---\n",
      "Accuracy: 0.6200\n",
      "Classification Report:\n",
      "              precision    recall  f1-score   support\n",
      "\n",
      "           0       0.50      0.68      0.58        19\n",
      "           1       0.75      0.58      0.65        31\n",
      "\n",
      "    accuracy                           0.62        50\n",
      "   macro avg       0.62      0.63      0.62        50\n",
      "weighted avg       0.66      0.62      0.63        50\n",
      "\n"
     ]
    }
   ],
   "source": [
    "from sklearn.ensemble import RandomForestClassifier\n",
    "\n",
    "rf_model = RandomForestClassifier(n_estimators=1000, max_depth=10, random_state=42) \n",
    "rf_model.fit(x_train_scaled, y_train)\n",
    "\n",
    "evaluate_model(\"Random Forest\", rf_model, x_test_scaled, y_test)"
   ]
  },
  {
   "cell_type": "markdown",
   "id": "f4e6b233",
   "metadata": {},
   "source": [
    "## Fine Tuning and Data Folding\n",
    "\n",
    "### Promising Models\n",
    "1. Random Forest\n",
    "2. KNN\n",
    "3. Logistic Regression"
   ]
  },
  {
   "cell_type": "code",
   "execution_count": 19,
   "id": "ccd70052",
   "metadata": {},
   "outputs": [],
   "source": [
    "from sklearn.model_selection import RepeatedKFold, GridSearchCV"
   ]
  },
  {
   "cell_type": "code",
   "execution_count": 25,
   "id": "93c04126",
   "metadata": {},
   "outputs": [
    {
     "name": "stdout",
     "output_type": "stream",
     "text": [
      "{'criterion': 'entropy', 'max_depth': 50, 'max_features': 'sqrt', 'n_estimators': 500}\n"
     ]
    }
   ],
   "source": [
    "# Random Forest\n",
    "param_grid = {\n",
    "    'n_estimators' : [100,200,300,400,500,1000,2000],\n",
    "    'criterion' : ['gini','entropy','log_loss'],\n",
    "    'max_depth' : [10,50,100],\n",
    "    'max_features' : ['sqrt','log2']\n",
    "}\n",
    "\n",
    "tree_model = RandomForestClassifier(random_state=12)\n",
    "cv = RepeatedKFold(n_splits=10, n_repeats=10, random_state=11)\n",
    "\n",
    "grid_cv = GridSearchCV(tree_model, \n",
    "                       param_grid=param_grid, \n",
    "                       scoring='accuracy',\n",
    "                       n_jobs=5, \n",
    "                       cv=cv, \n",
    "                       refit=True)\n",
    "grid_cv.fit(x_train_scaled, y_train)\n",
    "print(grid_cv.best_params_)"
   ]
  },
  {
   "cell_type": "code",
   "execution_count": 26,
   "id": "b3cb64c7",
   "metadata": {},
   "outputs": [
    {
     "name": "stdout",
     "output_type": "stream",
     "text": [
      "{'algorithm': 'auto', 'n_neighbors': 4, 'weights': 'distance'}\n"
     ]
    }
   ],
   "source": [
    "# KNN\n",
    "param_grid = {\n",
    "    'n_neighbors' : [2,4,5,6,8,10],\n",
    "    'weights' : ['uniform','distance'],\n",
    "    'algorithm' : ['auto','ball_tree','kd_tree','brute'],\n",
    "}\n",
    "\n",
    "knn_model = KNeighborsClassifier()\n",
    "cv = RepeatedKFold(n_splits=10, n_repeats=10, random_state=11)\n",
    "\n",
    "grid_cv = GridSearchCV(knn_model, \n",
    "                       param_grid=param_grid, \n",
    "                       scoring='accuracy',\n",
    "                       n_jobs=5, \n",
    "                       cv=cv, \n",
    "                       refit=True)\n",
    "grid_cv.fit(x_train_scaled, y_train)\n",
    "print(grid_cv.best_params_)"
   ]
  },
  {
   "cell_type": "code",
   "execution_count": 28,
   "id": "5b166bf9",
   "metadata": {},
   "outputs": [
    {
     "name": "stdout",
     "output_type": "stream",
     "text": [
      "{'C': 10, 'penalty': 'l1', 'solver': 'saga'}\n"
     ]
    }
   ],
   "source": [
    "# Logistc Regression\n",
    "param_grid = [\n",
    "    {'solver': ['liblinear'], 'penalty': ['l1', 'l2'], 'C': [0.1, 1.0, 10]},\n",
    "    {'solver': ['lbfgs'], 'penalty': ['l2'], 'C': [0.1, 1.0, 10]},\n",
    "    {'solver': ['saga'], 'penalty': ['l1', 'l2'], 'C': [0.1, 1.0, 10]},\n",
    "    {'solver': ['saga'], 'penalty': ['elasticnet'], 'l1_ratio': [0.0, 0.5, 1.0], 'C': [0.1, 1.0, 10]},\n",
    "]\n",
    "\n",
    "\n",
    "logreg_model = LogisticRegression(random_state=12)\n",
    "cv = RepeatedKFold(n_splits=10, n_repeats=10, random_state=11)\n",
    "\n",
    "grid_cv = GridSearchCV(logreg_model, \n",
    "                       param_grid=param_grid, \n",
    "                       scoring='accuracy',\n",
    "                       n_jobs=5, \n",
    "                       cv=cv, \n",
    "                       refit=True)\n",
    "grid_cv.fit(x_train_scaled, y_train)\n",
    "print(grid_cv.best_params_)"
   ]
  }
 ],
 "metadata": {
  "kernelspec": {
   "display_name": "Python 3",
   "language": "python",
   "name": "python3"
  },
  "language_info": {
   "codemirror_mode": {
    "name": "ipython",
    "version": 3
   },
   "file_extension": ".py",
   "mimetype": "text/x-python",
   "name": "python",
   "nbconvert_exporter": "python",
   "pygments_lexer": "ipython3",
   "version": "3.13.3"
  }
 },
 "nbformat": 4,
 "nbformat_minor": 5
}
