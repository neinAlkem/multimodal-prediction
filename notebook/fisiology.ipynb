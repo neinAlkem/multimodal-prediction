{
 "cells": [
  {
   "cell_type": "markdown",
   "id": "204b9569",
   "metadata": {},
   "source": [
    "## Import Library"
   ]
  },
  {
   "cell_type": "code",
   "execution_count": 2,
   "id": "758187a6",
   "metadata": {},
   "outputs": [
    {
     "data": {
      "text/plain": [
       "True"
      ]
     },
     "execution_count": 2,
     "metadata": {},
     "output_type": "execute_result"
    }
   ],
   "source": [
    "from pyspark.sql import SparkSession, types\n",
    "from pyspark.sql import functions as F\n",
    "import os\n",
    "from dotenv import load_dotenv\n",
    "import pandas as pd\n",
    "import numpy as np\n",
    "from datetime import datetime, timedelta\n",
    "from functools import reduce\n",
    "import seaborn as sns\n",
    "import matplotlib.pyplot as plt\n",
    "import io \n",
    "from google.cloud import storage\n",
    "\n",
    "load_dotenv()"
   ]
  },
  {
   "cell_type": "markdown",
   "id": "bcd258ac",
   "metadata": {},
   "source": [
    "## Setup Sparkstandalone Session"
   ]
  },
  {
   "cell_type": "code",
   "execution_count": 3,
   "id": "f8d733aa",
   "metadata": {},
   "outputs": [
    {
     "name": "stdout",
     "output_type": "stream",
     "text": [
      ":: loading settings :: url = jar:file:/home/Bagas/spark/spark-3.5.5-bin-hadoop3/jars/ivy-2.5.1.jar!/org/apache/ivy/core/settings/ivysettings.xml\n"
     ]
    },
    {
     "name": "stderr",
     "output_type": "stream",
     "text": [
      "Ivy Default Cache set to: /home/Bagas/.ivy2/cache\n",
      "The jars for the packages stored in: /home/Bagas/.ivy2/jars\n",
      "com.google.cloud.spark#spark-bigquery-with-dependencies_2.12 added as a dependency\n",
      ":: resolving dependencies :: org.apache.spark#spark-submit-parent-b6e2c296-42b1-4033-950e-479920161cad;1.0\n",
      "\tconfs: [default]\n",
      "\tfound com.google.cloud.spark#spark-bigquery-with-dependencies_2.12;0.36.1 in central\n",
      ":: resolution report :: resolve 119ms :: artifacts dl 4ms\n",
      "\t:: modules in use:\n",
      "\tcom.google.cloud.spark#spark-bigquery-with-dependencies_2.12;0.36.1 from central in [default]\n",
      "\t---------------------------------------------------------------------\n",
      "\t|                  |            modules            ||   artifacts   |\n",
      "\t|       conf       | number| search|dwnlded|evicted|| number|dwnlded|\n",
      "\t---------------------------------------------------------------------\n",
      "\t|      default     |   1   |   0   |   0   |   0   ||   1   |   0   |\n",
      "\t---------------------------------------------------------------------\n",
      ":: retrieving :: org.apache.spark#spark-submit-parent-b6e2c296-42b1-4033-950e-479920161cad\n",
      "\tconfs: [default]\n",
      "\t0 artifacts copied, 1 already retrieved (0kB/4ms)\n",
      "25/06/02 06:24:08 WARN NativeCodeLoader: Unable to load native-hadoop library for your platform... using builtin-java classes where applicable\n",
      "Setting default log level to \"WARN\".\n",
      "To adjust logging level use sc.setLogLevel(newLevel). For SparkR, use setLogLevel(newLevel).\n"
     ]
    }
   ],
   "source": [
    "spark = SparkSession \\\n",
    "    .builder \\\n",
    "    .master('spark://localhost:7077') \\\n",
    "    .config(\"spark.jars.packages\", \"com.google.cloud.spark:spark-bigquery-with-dependencies_2.12:0.36.1\") \\\n",
    "    .config(\"spark.jars\", \"https://storage.googleapis.com/hadoop-lib/gcs/gcs-connector-hadoop3-latest.jar\") \\\n",
    "    .config(\"spark.hadoop.fs.gs.impl\", \"com.google.cloud.hadoop.fs.gcs.GoogleHadoopFileSystem\") \\\n",
    "    .config(\"spark.hadoop.fs.AbstractFileSystem.gs.impl\", \"com.google.cloud.hadoop.fs.gcs.GoogleHadoopFS\") \\\n",
    "    .config(\"spark.hadoop.google.cloud.auth.service.account.enable\", \"true\") \\\n",
    "    .config(\"spark.hadoop.fs.gs.impl\", \"com.google.cloud.hadoop.fs.gcs.GoogleHadoopFileSystem\") \\\n",
    "    .config(\"spark.hadoop.fs.AbstractFileSystem.gs.impl\", \"com.google.cloud.hadoop.fs.gcs.GoogleHadoopFS\") \\\n",
    "    .config(\"spark.hadoop.google.cloud.auth.service.account.enable\", \"true\") \\\n",
    "    .config(\"spark.hadoop.google.cloud.auth.type\", \"SERVICE_ACCOUNT_JSON_KEYFILE\") \\\n",
    "    .config(\"spark.hadoop.fs.gs.project.id\", os.getenv('PROJECT_ID')) \\\n",
    "    .appName(\"fisiology_spark\") \\\n",
    "    .getOrCreate()"
   ]
  },
  {
   "cell_type": "markdown",
   "id": "29757c99",
   "metadata": {},
   "source": [
    "## Connection to GCS Test"
   ]
  },
  {
   "cell_type": "code",
   "execution_count": 4,
   "id": "87573f08",
   "metadata": {},
   "outputs": [],
   "source": [
    "base_path = 'gs://project-abd/raw/class_wearable_data/'\n",
    "\n",
    "def sample_wearable(class_id, participant_id):\n",
    "    session_path = os.path.join(base_path, str(class_id), str(participant_id))\n",
    "    print(f'Processing : {session_path}..')\n",
    "    \n",
    "    sensor_map = {}\n",
    "    sensors = {'HR.csv': 'HR', 'TEMP.csv': 'TEMP'}\n",
    "    \n",
    "    for file_name, sensor_prefix in sensors.items():\n",
    "        file_path = os.path.join(session_path, file_name)\n",
    "        try:\n",
    "            df_sensor = pd.read_csv(file_path, header=None, names=[sensor_prefix, 'Time'])\n",
    "            \n",
    "            df_sensor.dropna(subset=['Time'], inplace=True)\n",
    "            df_sensor['Time'] = pd.to_datetime(df_sensor['Time'], errors='coerce')\n",
    "            df_sensor[sensor_prefix] = pd.to_numeric(df_sensor[sensor_prefix], errors='coerce')\n",
    "            df_sensor.dropna(subset=[sensor_prefix], inplace=True)\n",
    "            \n",
    "            if not df_sensor.empty:\n",
    "                df_sensor.set_index('Time', inplace=True)\n",
    "                sensor_map[sensor_prefix] = df_sensor[[sensor_prefix]]\n",
    "\n",
    "        except FileNotFoundError:\n",
    "            print(f'File not found: {file_path}')\n",
    "        except Exception as e:\n",
    "            print(f'Error processing {file_path}: {e}')\n",
    "    \n",
    "    if not sensor_map:\n",
    "        return pd.DataFrame()\n",
    "    \n",
    "    all_features = []\n",
    "    for sensor_prefix, sensor_df in sensor_map.items():\n",
    "        if not sensor_df.empty and not sensor_df.isnull().all().all():\n",
    "            features = sensor_df.resample('5min').mean().reset_index()\n",
    "            features.columns = ['time', f'{sensor_prefix}_mean']\n",
    "            all_features.append(features.set_index('time'))\n",
    "\n",
    "    if not all_features:\n",
    "        return pd.DataFrame()\n",
    "\n",
    "    final_features_pd = pd.concat(all_features, axis=1).reset_index()\n",
    "    final_features_pd['time'] =   final_features_pd['time'].dt.strftime('%H:%M:%S')\n",
    "    final_features_pd['participant_id'] = participant_id\n",
    "    final_features_pd['class_id'] = class_id\n",
    "\n",
    "    return final_features_pd"
   ]
  },
  {
   "cell_type": "code",
   "execution_count": 5,
   "id": "2a4bb714",
   "metadata": {},
   "outputs": [
    {
     "name": "stdout",
     "output_type": "stream",
     "text": [
      "Processing : gs://project-abd/raw/class_wearable_data/1/1..\n"
     ]
    },
    {
     "name": "stderr",
     "output_type": "stream",
     "text": [
      "/tmp/ipykernel_2124/233987190.py:16: UserWarning: Could not infer format, so each element will be parsed individually, falling back to `dateutil`. To ensure parsing is consistent and as-expected, please specify a format.\n",
      "  df_sensor['Time'] = pd.to_datetime(df_sensor['Time'], errors='coerce')\n",
      "/tmp/ipykernel_2124/233987190.py:16: UserWarning: Could not infer format, so each element will be parsed individually, falling back to `dateutil`. To ensure parsing is consistent and as-expected, please specify a format.\n",
      "  df_sensor['Time'] = pd.to_datetime(df_sensor['Time'], errors='coerce')\n"
     ]
    },
    {
     "data": {
      "application/vnd.microsoft.datawrangler.viewer.v0+json": {
       "columns": [
        {
         "name": "index",
         "rawType": "int64",
         "type": "integer"
        },
        {
         "name": "time",
         "rawType": "object",
         "type": "string"
        },
        {
         "name": "HR_mean",
         "rawType": "float64",
         "type": "float"
        },
        {
         "name": "TEMP_mean",
         "rawType": "float64",
         "type": "float"
        },
        {
         "name": "participant_id",
         "rawType": "int64",
         "type": "integer"
        },
        {
         "name": "class_id",
         "rawType": "int64",
         "type": "integer"
        }
       ],
       "ref": "0423ccbb-0836-4dff-9e3d-82fce0bcddc6",
       "rows": [
        [
         "0",
         "09:20:00",
         "101.96850746268657",
         "18.796666666666667",
         "1",
         "1"
        ],
        [
         "1",
         "09:25:00",
         "112.20290000000001",
         "18.7992",
         "1",
         "1"
        ],
        [
         "2",
         "09:30:00",
         "110.07446666666665",
         "18.7822",
         "1",
         "1"
        ],
        [
         "3",
         "09:35:00",
         "124.70516666666667",
         "18.653233333333333",
         "1",
         "1"
        ]
       ],
       "shape": {
        "columns": 5,
        "rows": 4
       }
      },
      "text/html": [
       "<div>\n",
       "<style scoped>\n",
       "    .dataframe tbody tr th:only-of-type {\n",
       "        vertical-align: middle;\n",
       "    }\n",
       "\n",
       "    .dataframe tbody tr th {\n",
       "        vertical-align: top;\n",
       "    }\n",
       "\n",
       "    .dataframe thead th {\n",
       "        text-align: right;\n",
       "    }\n",
       "</style>\n",
       "<table border=\"1\" class=\"dataframe\">\n",
       "  <thead>\n",
       "    <tr style=\"text-align: right;\">\n",
       "      <th></th>\n",
       "      <th>time</th>\n",
       "      <th>HR_mean</th>\n",
       "      <th>TEMP_mean</th>\n",
       "      <th>participant_id</th>\n",
       "      <th>class_id</th>\n",
       "    </tr>\n",
       "  </thead>\n",
       "  <tbody>\n",
       "    <tr>\n",
       "      <th>0</th>\n",
       "      <td>09:20:00</td>\n",
       "      <td>101.968507</td>\n",
       "      <td>18.796667</td>\n",
       "      <td>1</td>\n",
       "      <td>1</td>\n",
       "    </tr>\n",
       "    <tr>\n",
       "      <th>1</th>\n",
       "      <td>09:25:00</td>\n",
       "      <td>112.202900</td>\n",
       "      <td>18.799200</td>\n",
       "      <td>1</td>\n",
       "      <td>1</td>\n",
       "    </tr>\n",
       "    <tr>\n",
       "      <th>2</th>\n",
       "      <td>09:30:00</td>\n",
       "      <td>110.074467</td>\n",
       "      <td>18.782200</td>\n",
       "      <td>1</td>\n",
       "      <td>1</td>\n",
       "    </tr>\n",
       "    <tr>\n",
       "      <th>3</th>\n",
       "      <td>09:35:00</td>\n",
       "      <td>124.705167</td>\n",
       "      <td>18.653233</td>\n",
       "      <td>1</td>\n",
       "      <td>1</td>\n",
       "    </tr>\n",
       "  </tbody>\n",
       "</table>\n",
       "</div>"
      ],
      "text/plain": [
       "       time     HR_mean  TEMP_mean  participant_id  class_id\n",
       "0  09:20:00  101.968507  18.796667               1         1\n",
       "1  09:25:00  112.202900  18.799200               1         1\n",
       "2  09:30:00  110.074467  18.782200               1         1\n",
       "3  09:35:00  124.705167  18.653233               1         1"
      ]
     },
     "execution_count": 5,
     "metadata": {},
     "output_type": "execute_result"
    }
   ],
   "source": [
    "test = sample_wearable(1, 1)\n",
    "test.head()"
   ]
  },
  {
   "cell_type": "markdown",
   "id": "1d40b966",
   "metadata": {},
   "source": [
    "## Load Data"
   ]
  },
  {
   "cell_type": "code",
   "execution_count": 6,
   "id": "04f60c49",
   "metadata": {},
   "outputs": [
    {
     "name": "stderr",
     "output_type": "stream",
     "text": [
      "                                                                                \r"
     ]
    }
   ],
   "source": [
    "base_path = 'gs://project-abd/raw/class_wearable_data/'\n",
    "\n",
    "schema = types.StructType([\n",
    "    types.StructField('value', types.FloatType(), True),\n",
    "    types.StructField('Time', types.TimestampType(), True)\n",
    "])\n",
    "\n",
    "hr = spark.read.schema(schema).csv(base_path + '/*/*/HR.csv')\n",
    "temp = spark.read.schema(schema).csv(base_path + '/*/*/TEMP.csv')\n",
    "eda = spark.read.schema(schema).csv(base_path + '/*/*/EDA.csv')\n",
    "ibi = spark.read.schema(schema).csv(base_path + '/*/*/IBI.csv')\n",
    "bvp = spark.read.schema(schema).csv(base_path + '/*/*/BVP.csv')"
   ]
  },
  {
   "cell_type": "markdown",
   "id": "775ab70b",
   "metadata": {},
   "source": [
    "## Preprocess Data"
   ]
  },
  {
   "cell_type": "code",
   "execution_count": 7,
   "id": "94a2aef1",
   "metadata": {},
   "outputs": [],
   "source": [
    "def extract_id(df):\n",
    "    df = df.withColumn('class_id', F.regexp_extract(F.input_file_name(),r'class_wearable_data/(\\d+)/',1).cast('int'))\n",
    "    df = df.withColumn('participant_id', F.regexp_extract(F.input_file_name(),r'class_wearable_data/\\d+/(\\d+)/',1).cast('int'))\n",
    "    return df"
   ]
  },
  {
   "cell_type": "code",
   "execution_count": 8,
   "id": "7460d0db",
   "metadata": {},
   "outputs": [],
   "source": [
    "hr = extract_id(hr)\n",
    "temp = extract_id(temp)\n",
    "eda = extract_id(eda)\n",
    "ibi = extract_id(ibi)\n",
    "bvp = extract_id(bvp)"
   ]
  },
  {
   "cell_type": "code",
   "execution_count": 9,
   "id": "85e9a8c0",
   "metadata": {},
   "outputs": [
    {
     "name": "stderr",
     "output_type": "stream",
     "text": [
      "                                                                                \r"
     ]
    },
    {
     "name": "stdout",
     "output_type": "stream",
     "text": [
      "+-----+-------------------+--------+--------------+\n",
      "|value|               Time|class_id|participant_id|\n",
      "+-----+-------------------+--------+--------------+\n",
      "| NULL|               NULL|     213|            19|\n",
      "| 92.0|2025-06-02 09:00:01|     213|            19|\n",
      "|91.35|2025-06-02 09:00:02|     213|            19|\n",
      "|90.73|2025-06-02 09:00:03|     213|            19|\n",
      "|90.08|2025-06-02 09:00:04|     213|            19|\n",
      "+-----+-------------------+--------+--------------+\n",
      "only showing top 5 rows\n",
      "\n"
     ]
    }
   ],
   "source": [
    "hr.show(5)"
   ]
  },
  {
   "cell_type": "code",
   "execution_count": 10,
   "id": "33520f92",
   "metadata": {},
   "outputs": [],
   "source": [
    "def format_time(df):\n",
    "    return df.withColumn('time_format',\n",
    "                         F.date_format('Time','HH:mm:ss')).drop('Time')\n",
    "\n",
    "hr_time = format_time(hr)\n",
    "temp_time = format_time(temp)\n",
    "eda_time = format_time(eda)\n",
    "ibi_time = format_time(ibi)\n",
    "bvp_time = format_time(bvp)"
   ]
  },
  {
   "cell_type": "code",
   "execution_count": 11,
   "id": "6379785f",
   "metadata": {},
   "outputs": [
    {
     "name": "stderr",
     "output_type": "stream",
     "text": [
      "[Stage 6:>                                                          (0 + 1) / 1]\r"
     ]
    },
    {
     "name": "stdout",
     "output_type": "stream",
     "text": [
      "+-----+--------+--------------+-----------+\n",
      "|value|class_id|participant_id|time_format|\n",
      "+-----+--------+--------------+-----------+\n",
      "| NULL|     213|            19|       NULL|\n",
      "| 92.0|     213|            19|   09:00:01|\n",
      "|91.35|     213|            19|   09:00:02|\n",
      "|90.73|     213|            19|   09:00:03|\n",
      "|90.08|     213|            19|   09:00:04|\n",
      "+-----+--------+--------------+-----------+\n",
      "only showing top 5 rows\n",
      "\n"
     ]
    },
    {
     "name": "stderr",
     "output_type": "stream",
     "text": [
      "                                                                                \r"
     ]
    }
   ],
   "source": [
    "hr_time.show(5)"
   ]
  },
  {
   "cell_type": "code",
   "execution_count": 12,
   "id": "04074e7a",
   "metadata": {},
   "outputs": [],
   "source": [
    "def agg_sensor(df, alias):\n",
    "    return df.groupby('class_id', 'participant_id', F.window('time_format','5 minutes')\n",
    "                    ).agg(F.mean('value').alias(alias))\n",
    "\n",
    "hr_agg = agg_sensor(hr_time, 'hr_mean')\n",
    "temp_agg = agg_sensor(temp_time, 'temp_mean')\n",
    "eda_agg = agg_sensor(eda_time, 'eda_mean')\n",
    "ibi_agg = agg_sensor(ibi_time, 'ibi_mean')\n",
    "bvp_agg = agg_sensor(bvp_time, 'bvp_mean')"
   ]
  },
  {
   "cell_type": "code",
   "execution_count": 13,
   "id": "a219d9fc",
   "metadata": {},
   "outputs": [],
   "source": [
    "df_to_join = [hr_agg, temp_agg, eda_agg, ibi_agg, bvp_agg]\n",
    "df_join = reduce(lambda left,right:\n",
    "    left.join(right, on=\n",
    "              ['class_id',\n",
    "               'participant_id',\n",
    "               'window'], how='outer'),\n",
    "    df_to_join)"
   ]
  },
  {
   "cell_type": "code",
   "execution_count": 14,
   "id": "17508c69",
   "metadata": {},
   "outputs": [
    {
     "name": "stderr",
     "output_type": "stream",
     "text": [
      "[Stage 8:>  (0 + 32) / 37][Stage 9:>   (0 + 0) / 37][Stage 10:>  (0 + 0) / 34]7]\r"
     ]
    },
    {
     "name": "stderr",
     "output_type": "stream",
     "text": [
      "[Stage 11:=======================================================>(76 + 1) / 77]\r"
     ]
    },
    {
     "name": "stdout",
     "output_type": "stream",
     "text": [
      "+--------+--------------+-----------+------------------+------------------+--------------------+-------------------+--------------------+\n",
      "|class_id|participant_id|time_format|           hr_mean|         temp_mean|            eda_mean|           ibi_mean|            bvp_mean|\n",
      "+--------+--------------+-----------+------------------+------------------+--------------------+-------------------+--------------------+\n",
      "|       1|             1|   09:20:00|101.96850751051262| 18.79666699303521|0.001454626731881...|0.46877134839693707|0.005812729376985872|\n",
      "|       1|             1|   09:25:00|112.20290006001791| 18.79920024236043|3.533424931811168...|0.38022567331790924| 0.01111510058719432|\n",
      "|       1|             1|   09:30:00|110.07446683247885|18.782200450897218|3.661524929339066E-4| 0.3854343295097351|-0.01442968695181...|\n",
      "|       1|             1|   09:35:00| 124.7051665242513| 18.65323377609253|2.006899961270392E-4|0.38790275516668205|6.333332597084033E-4|\n",
      "|       1|             2|   09:20:00|103.59137417159917|18.808865675689482|5.271010639984822E-4|0.44533251225948334| 6.02816501739666E-4|\n",
      "+--------+--------------+-----------+------------------+------------------+--------------------+-------------------+--------------------+\n",
      "only showing top 5 rows\n",
      "\n"
     ]
    },
    {
     "name": "stderr",
     "output_type": "stream",
     "text": [
      "                                                                                \r"
     ]
    }
   ],
   "source": [
    "final_df = df_join.withColumn('time', F.col('window').start).withColumn('time_format', F.date_format('time', 'HH:mm:ss')) \\\n",
    "    .select('class_id', 'participant_id', 'time_format','hr_mean', 'temp_mean', 'eda_mean', 'ibi_mean', 'bvp_mean'\n",
    ").orderBy('class_id', 'participant_id', 'time')\n",
    "\n",
    "final_df.show(5)"
   ]
  },
  {
   "cell_type": "code",
   "execution_count": 15,
   "id": "f8899cad",
   "metadata": {},
   "outputs": [
    {
     "name": "stderr",
     "output_type": "stream",
     "text": [
      "[Stage 36:> (0 + 32) / 35][Stage 37:>  (0 + 0) / 37][Stage 38:>  (0 + 0) / 37]7]\r"
     ]
    },
    {
     "name": "stderr",
     "output_type": "stream",
     "text": [
      "                                                                                \r"
     ]
    }
   ],
   "source": [
    "final_df.coalesce(1).write.option(\"header\", True).mode('overwrite').csv(\"/home/Bagas/project/dataset/fisiology_output\")"
   ]
  },
  {
   "cell_type": "markdown",
   "id": "964ed764",
   "metadata": {},
   "source": [
    "## EDA "
   ]
  },
  {
   "cell_type": "code",
   "execution_count": 16,
   "id": "2d199405",
   "metadata": {},
   "outputs": [
    {
     "name": "stderr",
     "output_type": "stream",
     "text": [
      "25/06/02 06:38:23 WARN SparkStringUtils: Truncated the string representation of a plan since it was too large. This behavior can be adjusted by setting 'spark.sql.debug.maxToStringFields'.\n",
      "[Stage 85:> (0 + 32) / 37][Stage 86:>  (0 + 0) / 37][Stage 87:>  (0 + 0) / 34]7]\r"
     ]
    },
    {
     "name": "stderr",
     "output_type": "stream",
     "text": [
      "                                                                                \r"
     ]
    },
    {
     "name": "stdout",
     "output_type": "stream",
     "text": [
      "+-------+------------------+------------------+-----------------+------------------+--------------------+\n",
      "|summary|           hr_mean|         temp_mean|         eda_mean|          ibi_mean|            bvp_mean|\n",
      "+-------+------------------+------------------+-----------------+------------------+--------------------+\n",
      "|  count|             12413|             12413|            12349|             10479|               12414|\n",
      "|   mean| 86.83354712633137| 31.52723853824994|1.144084654385367|0.7605375133657025|0.009647823618635504|\n",
      "| stddev|14.063941496792594| 3.141786551346176|3.084032364776104|0.1415570370534735|  1.5541281532113587|\n",
      "|    min|  52.9539333597819|17.495679283478484|              0.0|0.3125140070915222| -20.227012599750264|\n",
      "|    max|200.02836634318035| 37.14290031433106| 58.3393748442332| 1.484442949295044|  170.29739180855128|\n",
      "+-------+------------------+------------------+-----------------+------------------+--------------------+\n",
      "\n"
     ]
    }
   ],
   "source": [
    "final_df.describe(['hr_mean', 'temp_mean', 'eda_mean', 'ibi_mean', 'bvp_mean']).show()"
   ]
  },
  {
   "cell_type": "code",
   "execution_count": 17,
   "id": "7e587ebf",
   "metadata": {},
   "outputs": [
    {
     "name": "stderr",
     "output_type": "stream",
     "text": [
      "                                                                                \r"
     ]
    }
   ],
   "source": [
    "df_pd = final_df.toPandas()\n",
    "\n",
    "def tren_line(id,data) :\n",
    "    sns.lineplot(data=df_pd[df_pd['participant_id'] == {id}], x = df_pd['time_format'], y = df_pd[f'{data}']) \n",
    "    plt.title(f'Tren Line for {data} for participant {id}')\n",
    "    plt.show()"
   ]
  },
  {
   "cell_type": "code",
   "execution_count": 18,
   "id": "a6823223",
   "metadata": {},
   "outputs": [
    {
     "data": {
      "image/png": "[encoded data removed]",
      "text/plain": [
       "<Figure size 640x480 with 1 Axes>"
      ]
     },
     "metadata": {},
     "output_type": "display_data"
    }
   ],
   "source": [
    "tren_line(3, 'hr_mean')"
   ]
  },
  {
   "cell_type": "code",
   "execution_count": 19,
   "id": "d5913b23",
   "metadata": {},
   "outputs": [
    {
     "data": {
      "application/vnd.microsoft.datawrangler.viewer.v0+json": {
       "columns": [
        {
         "name": "index",
         "rawType": "object",
         "type": "string"
        },
        {
         "name": "hr_mean",
         "rawType": "float64",
         "type": "float"
        },
        {
         "name": "temp_mean",
         "rawType": "float64",
         "type": "float"
        },
        {
         "name": "eda_mean",
         "rawType": "float64",
         "type": "float"
        },
        {
         "name": "ibi_mean",
         "rawType": "float64",
         "type": "float"
        },
        {
         "name": "bvp_mean",
         "rawType": "float64",
         "type": "float"
        }
       ],
       "ref": "62c8e74f-4007-465a-8597-a87f34005a97",
       "rows": [
        [
         "hr_mean",
         "1.0",
         "-0.34645966504924675",
         "0.15873424719024765",
         "-0.5956602255532704",
         "-0.0020491109545174168"
        ],
        [
         "temp_mean",
         "-0.34645966504924675",
         "1.0",
         "0.13072148983223006",
         "0.21807088467417476",
         "-0.003337505898260675"
        ],
        [
         "eda_mean",
         "0.15873424719024765",
         "0.13072148983223006",
         "1.0",
         "-0.2491170295471907",
         "-0.005299893076331925"
        ],
        [
         "ibi_mean",
         "-0.5956602255532704",
         "0.21807088467417476",
         "-0.2491170295471907",
         "1.0",
         "-0.009276519132722191"
        ],
        [
         "bvp_mean",
         "-0.0020491109545174168",
         "-0.003337505898260675",
         "-0.005299893076331925",
         "-0.009276519132722191",
         "1.0"
        ]
       ],
       "shape": {
        "columns": 5,
        "rows": 5
       }
      },
      "text/html": [
       "<div>\n",
       "<style scoped>\n",
       "    .dataframe tbody tr th:only-of-type {\n",
       "        vertical-align: middle;\n",
       "    }\n",
       "\n",
       "    .dataframe tbody tr th {\n",
       "        vertical-align: top;\n",
       "    }\n",
       "\n",
       "    .dataframe thead th {\n",
       "        text-align: right;\n",
       "    }\n",
       "</style>\n",
       "<table border=\"1\" class=\"dataframe\">\n",
       "  <thead>\n",
       "    <tr style=\"text-align: right;\">\n",
       "      <th></th>\n",
       "      <th>hr_mean</th>\n",
       "      <th>temp_mean</th>\n",
       "      <th>eda_mean</th>\n",
       "      <th>ibi_mean</th>\n",
       "      <th>bvp_mean</th>\n",
       "    </tr>\n",
       "  </thead>\n",
       "  <tbody>\n",
       "    <tr>\n",
       "      <th>hr_mean</th>\n",
       "      <td>1.000000</td>\n",
       "      <td>-0.346460</td>\n",
       "      <td>0.158734</td>\n",
       "      <td>-0.595660</td>\n",
       "      <td>-0.002049</td>\n",
       "    </tr>\n",
       "    <tr>\n",
       "      <th>temp_mean</th>\n",
       "      <td>-0.346460</td>\n",
       "      <td>1.000000</td>\n",
       "      <td>0.130721</td>\n",
       "      <td>0.218071</td>\n",
       "      <td>-0.003338</td>\n",
       "    </tr>\n",
       "    <tr>\n",
       "      <th>eda_mean</th>\n",
       "      <td>0.158734</td>\n",
       "      <td>0.130721</td>\n",
       "      <td>1.000000</td>\n",
       "      <td>-0.249117</td>\n",
       "      <td>-0.005300</td>\n",
       "    </tr>\n",
       "    <tr>\n",
       "      <th>ibi_mean</th>\n",
       "      <td>-0.595660</td>\n",
       "      <td>0.218071</td>\n",
       "      <td>-0.249117</td>\n",
       "      <td>1.000000</td>\n",
       "      <td>-0.009277</td>\n",
       "    </tr>\n",
       "    <tr>\n",
       "      <th>bvp_mean</th>\n",
       "      <td>-0.002049</td>\n",
       "      <td>-0.003338</td>\n",
       "      <td>-0.005300</td>\n",
       "      <td>-0.009277</td>\n",
       "      <td>1.000000</td>\n",
       "    </tr>\n",
       "  </tbody>\n",
       "</table>\n",
       "</div>"
      ],
      "text/plain": [
       "            hr_mean  temp_mean  eda_mean  ibi_mean  bvp_mean\n",
       "hr_mean    1.000000  -0.346460  0.158734 -0.595660 -0.002049\n",
       "temp_mean -0.346460   1.000000  0.130721  0.218071 -0.003338\n",
       "eda_mean   0.158734   0.130721  1.000000 -0.249117 -0.005300\n",
       "ibi_mean  -0.595660   0.218071 -0.249117  1.000000 -0.009277\n",
       "bvp_mean  -0.002049  -0.003338 -0.005300 -0.009277  1.000000"
      ]
     },
     "execution_count": 19,
     "metadata": {},
     "output_type": "execute_result"
    }
   ],
   "source": [
    "df_pd[['hr_mean', 'temp_mean', 'eda_mean', 'ibi_mean', 'bvp_mean']].corr()"
   ]
  },
  {
   "cell_type": "code",
   "execution_count": 20,
   "id": "e8a174e4",
   "metadata": {},
   "outputs": [],
   "source": [
    "csv_buffer = io.StringIO()\n",
    "df_pd.to_csv(csv_buffer, index=False)\n",
    "csv_data = csv_buffer.getvalue()\n",
    "csv_buffer.close()"
   ]
  },
  {
   "cell_type": "code",
   "execution_count": 23,
   "id": "8748365f",
   "metadata": {},
   "outputs": [],
   "source": [
    "client = storage.Client()\n",
    "os.environ['GOOGLE_APPLICATION_CREDENTIALS']=os.getenv('CREDENTIAL')"
   ]
  },
  {
   "cell_type": "code",
   "execution_count": 24,
   "id": "360b29d1",
   "metadata": {},
   "outputs": [
    {
     "name": "stdout",
     "output_type": "stream",
     "text": [
      "DataFrame uploaded to gs://<Bucket: project-abd>/notebook-data/fisiology.csv as CSV\n"
     ]
    }
   ],
   "source": [
    "bucket = client.get_bucket('project-abd')\n",
    "destination_file = 'notebook-data/fisiology.csv'\n",
    "blob_csv = bucket.blob(destination_file)\n",
    "blob_csv.upload_from_string(csv_data, content_type='text/csv')\n",
    "print(f\"DataFrame uploaded to gs://{bucket}/{destination_file} as CSV\")"
   ]
  }
 ],
 "metadata": {
  "kernelspec": {
   "display_name": "Python 3",
   "language": "python",
   "name": "python3"
  },
  "language_info": {
   "codemirror_mode": {
    "name": "ipython",
    "version": 3
   },
   "file_extension": ".py",
   "mimetype": "text/x-python",
   "name": "python",
   "nbconvert_exporter": "python",
   "pygments_lexer": "ipython3",
   "version": "3.13.3"
  }
 },
 "nbformat": 4,
 "nbformat_minor": 5
}
