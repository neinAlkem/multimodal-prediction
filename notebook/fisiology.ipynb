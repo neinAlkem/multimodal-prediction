{
 "cells": [
  {
   "cell_type": "markdown",
   "id": "204b9569",
   "metadata": {},
   "source": [
    "## Import Library"
   ]
  },
  {
   "cell_type": "code",
   "execution_count": 87,
   "id": "758187a6",
   "metadata": {},
   "outputs": [
    {
     "data": {
      "text/plain": [
       "True"
      ]
     },
     "execution_count": 87,
     "metadata": {},
     "output_type": "execute_result"
    }
   ],
   "source": [
    "from pyspark.sql import SparkSession, types\n",
    "from pyspark.sql import functions as F\n",
    "import os\n",
    "from dotenv import load_dotenv\n",
    "import pandas as pd\n",
    "import numpy as np\n",
    "from datetime import datetime, timedelta\n",
    "from functools import reduce\n",
    "import seaborn as sns\n",
    "import matplotlib.pyplot as plt\n",
    "\n",
    "load_dotenv()"
   ]
  },
  {
   "cell_type": "markdown",
   "id": "bcd258ac",
   "metadata": {},
   "source": [
    "## Setup Sparkstandalone Session"
   ]
  },
  {
   "cell_type": "code",
   "execution_count": 2,
   "id": "f8d733aa",
   "metadata": {},
   "outputs": [
    {
     "name": "stdout",
     "output_type": "stream",
     "text": [
      ":: loading settings :: url = jar:file:/home/Bagas/spark/spark-3.5.5-bin-hadoop3/jars/ivy-2.5.1.jar!/org/apache/ivy/core/settings/ivysettings.xml\n"
     ]
    },
    {
     "name": "stderr",
     "output_type": "stream",
     "text": [
      "Ivy Default Cache set to: /home/Bagas/.ivy2/cache\n",
      "The jars for the packages stored in: /home/Bagas/.ivy2/jars\n",
      "com.google.cloud.spark#spark-bigquery-with-dependencies_2.12 added as a dependency\n",
      ":: resolving dependencies :: org.apache.spark#spark-submit-parent-68cb7779-06db-46cd-8bb7-2034b6a16242;1.0\n",
      "\tconfs: [default]\n",
      "\tfound com.google.cloud.spark#spark-bigquery-with-dependencies_2.12;0.36.1 in central\n",
      ":: resolution report :: resolve 137ms :: artifacts dl 4ms\n",
      "\t:: modules in use:\n",
      "\tcom.google.cloud.spark#spark-bigquery-with-dependencies_2.12;0.36.1 from central in [default]\n",
      "\t---------------------------------------------------------------------\n",
      "\t|                  |            modules            ||   artifacts   |\n",
      "\t|       conf       | number| search|dwnlded|evicted|| number|dwnlded|\n",
      "\t---------------------------------------------------------------------\n",
      "\t|      default     |   1   |   0   |   0   |   0   ||   1   |   0   |\n",
      "\t---------------------------------------------------------------------\n",
      ":: retrieving :: org.apache.spark#spark-submit-parent-68cb7779-06db-46cd-8bb7-2034b6a16242\n",
      "\tconfs: [default]\n",
      "\t0 artifacts copied, 1 already retrieved (0kB/4ms)\n",
      "25/06/01 11:16:01 WARN NativeCodeLoader: Unable to load native-hadoop library for your platform... using builtin-java classes where applicable\n",
      "Setting default log level to \"WARN\".\n",
      "To adjust logging level use sc.setLogLevel(newLevel). For SparkR, use setLogLevel(newLevel).\n"
     ]
    }
   ],
   "source": [
    "spark = SparkSession \\\n",
    "    .builder \\\n",
    "    .master('spark://localhost:7077') \\\n",
    "    .config(\"spark.jars.packages\", \"com.google.cloud.spark:spark-bigquery-with-dependencies_2.12:0.36.1\") \\\n",
    "    .config(\"spark.jars\", \"https://storage.googleapis.com/hadoop-lib/gcs/gcs-connector-hadoop3-latest.jar\") \\\n",
    "    .config(\"spark.hadoop.fs.gs.impl\", \"com.google.cloud.hadoop.fs.gcs.GoogleHadoopFileSystem\") \\\n",
    "    .config(\"spark.hadoop.fs.AbstractFileSystem.gs.impl\", \"com.google.cloud.hadoop.fs.gcs.GoogleHadoopFS\") \\\n",
    "    .config(\"spark.hadoop.google.cloud.auth.service.account.enable\", \"true\") \\\n",
    "    .config(\"spark.hadoop.fs.gs.impl\", \"com.google.cloud.hadoop.fs.gcs.GoogleHadoopFileSystem\") \\\n",
    "    .config(\"spark.hadoop.fs.AbstractFileSystem.gs.impl\", \"com.google.cloud.hadoop.fs.gcs.GoogleHadoopFS\") \\\n",
    "    .config(\"spark.hadoop.google.cloud.auth.service.account.enable\", \"true\") \\\n",
    "    .config(\"spark.hadoop.google.cloud.auth.type\", \"SERVICE_ACCOUNT_JSON_KEYFILE\") \\\n",
    "    .config(\"spark.hadoop.fs.gs.project.id\", os.getenv('PROJECT_ID')) \\\n",
    "    .appName(\"fisiology_spark\") \\\n",
    "    .getOrCreate()"
   ]
  },
  {
   "cell_type": "markdown",
   "id": "29757c99",
   "metadata": {},
   "source": [
    "## Connection to GCS Test"
   ]
  },
  {
   "cell_type": "code",
   "execution_count": null,
   "id": "87573f08",
   "metadata": {},
   "outputs": [],
   "source": [
    "base_path = 'gs://project-abd/raw/class_wearable_data/'\n",
    "\n",
    "def sample_wearable(class_id, participant_id):\n",
    "    session_path = os.path.join(base_path, str(class_id), str(participant_id))\n",
    "    print(f'Processing : {session_path}..')\n",
    "    \n",
    "    sensor_map = {}\n",
    "    sensors = {'HR.csv': 'HR', 'TEMP.csv': 'TEMP'}\n",
    "    \n",
    "    for file_name, sensor_prefix in sensors.items():\n",
    "        file_path = os.path.join(session_path, file_name)\n",
    "        try:\n",
    "            df_sensor = pd.read_csv(file_path, header=None, names=[sensor_prefix, 'Time'])\n",
    "            \n",
    "            df_sensor.dropna(subset=['Time'], inplace=True)\n",
    "            df_sensor['Time'] = pd.to_datetime(df_sensor['Time'], errors='coerce')\n",
    "            df_sensor[sensor_prefix] = pd.to_numeric(df_sensor[sensor_prefix], errors='coerce')\n",
    "            df_sensor.dropna(subset=[sensor_prefix], inplace=True)\n",
    "            \n",
    "            if not df_sensor.empty:\n",
    "                df_sensor.set_index('Time', inplace=True)\n",
    "                sensor_map[sensor_prefix] = df_sensor[[sensor_prefix]]\n",
    "\n",
    "        except FileNotFoundError:\n",
    "            print(f'File not found: {file_path}')\n",
    "        except Exception as e:\n",
    "            print(f'Error processing {file_path}: {e}')\n",
    "    \n",
    "    if not sensor_map:\n",
    "        return pd.DataFrame()\n",
    "    \n",
    "    all_features = []\n",
    "    for sensor_prefix, sensor_df in sensor_map.items():\n",
    "        if not sensor_df.empty and not sensor_df.isnull().all().all():\n",
    "            features = sensor_df.resample('5min').mean().reset_index()\n",
    "            features.columns = ['time', f'{sensor_prefix}_mean']\n",
    "            all_features.append(features.set_index('time'))\n",
    "\n",
    "    if not all_features:\n",
    "        return pd.DataFrame()\n",
    "\n",
    "    final_features_pd = pd.concat(all_features, axis=1).reset_index()\n",
    "    final_features_pd['time'] =   final_features_pd['time'].dt.strftime('%H:%M:%S')\n",
    "    final_features_pd['participant_id'] = participant_id\n",
    "    final_features_pd['class_id'] = class_id\n",
    "\n",
    "    return final_features_pd"
   ]
  },
  {
   "cell_type": "code",
   "execution_count": 29,
   "id": "2a4bb714",
   "metadata": {},
   "outputs": [
    {
     "name": "stdout",
     "output_type": "stream",
     "text": [
      "Processing : gs://project-abd/raw/class_wearable_data/1/1..\n"
     ]
    },
    {
     "name": "stderr",
     "output_type": "stream",
     "text": [
      "/tmp/ipykernel_25290/1930031351.py:16: UserWarning: Could not infer format, so each element will be parsed individually, falling back to `dateutil`. To ensure parsing is consistent and as-expected, please specify a format.\n",
      "  df_sensor['Time'] = pd.to_datetime(df_sensor['Time'], errors='coerce')\n",
      "/tmp/ipykernel_25290/1930031351.py:16: UserWarning: Could not infer format, so each element will be parsed individually, falling back to `dateutil`. To ensure parsing is consistent and as-expected, please specify a format.\n",
      "  df_sensor['Time'] = pd.to_datetime(df_sensor['Time'], errors='coerce')\n"
     ]
    },
    {
     "data": {
      "application/vnd.microsoft.datawrangler.viewer.v0+json": {
       "columns": [
        {
         "name": "index",
         "rawType": "int64",
         "type": "integer"
        },
        {
         "name": "time",
         "rawType": "object",
         "type": "string"
        },
        {
         "name": "HR_mean",
         "rawType": "float64",
         "type": "float"
        },
        {
         "name": "TEMP_mean",
         "rawType": "float64",
         "type": "float"
        },
        {
         "name": "participant_id",
         "rawType": "int64",
         "type": "integer"
        },
        {
         "name": "class_id",
         "rawType": "int64",
         "type": "integer"
        }
       ],
       "ref": "b74aca2d-ae0f-4d37-8c48-ed448b095cfb",
       "rows": [
        [
         "0",
         "09:20:00",
         "101.96850746268657",
         "18.796666666666667",
         "1",
         "1"
        ],
        [
         "1",
         "09:25:00",
         "112.20290000000001",
         "18.7992",
         "1",
         "1"
        ],
        [
         "2",
         "09:30:00",
         "110.07446666666665",
         "18.7822",
         "1",
         "1"
        ],
        [
         "3",
         "09:35:00",
         "124.70516666666667",
         "18.653233333333333",
         "1",
         "1"
        ]
       ],
       "shape": {
        "columns": 5,
        "rows": 4
       }
      },
      "text/html": [
       "<div>\n",
       "<style scoped>\n",
       "    .dataframe tbody tr th:only-of-type {\n",
       "        vertical-align: middle;\n",
       "    }\n",
       "\n",
       "    .dataframe tbody tr th {\n",
       "        vertical-align: top;\n",
       "    }\n",
       "\n",
       "    .dataframe thead th {\n",
       "        text-align: right;\n",
       "    }\n",
       "</style>\n",
       "<table border=\"1\" class=\"dataframe\">\n",
       "  <thead>\n",
       "    <tr style=\"text-align: right;\">\n",
       "      <th></th>\n",
       "      <th>time</th>\n",
       "      <th>HR_mean</th>\n",
       "      <th>TEMP_mean</th>\n",
       "      <th>participant_id</th>\n",
       "      <th>class_id</th>\n",
       "    </tr>\n",
       "  </thead>\n",
       "  <tbody>\n",
       "    <tr>\n",
       "      <th>0</th>\n",
       "      <td>09:20:00</td>\n",
       "      <td>101.968507</td>\n",
       "      <td>18.796667</td>\n",
       "      <td>1</td>\n",
       "      <td>1</td>\n",
       "    </tr>\n",
       "    <tr>\n",
       "      <th>1</th>\n",
       "      <td>09:25:00</td>\n",
       "      <td>112.202900</td>\n",
       "      <td>18.799200</td>\n",
       "      <td>1</td>\n",
       "      <td>1</td>\n",
       "    </tr>\n",
       "    <tr>\n",
       "      <th>2</th>\n",
       "      <td>09:30:00</td>\n",
       "      <td>110.074467</td>\n",
       "      <td>18.782200</td>\n",
       "      <td>1</td>\n",
       "      <td>1</td>\n",
       "    </tr>\n",
       "    <tr>\n",
       "      <th>3</th>\n",
       "      <td>09:35:00</td>\n",
       "      <td>124.705167</td>\n",
       "      <td>18.653233</td>\n",
       "      <td>1</td>\n",
       "      <td>1</td>\n",
       "    </tr>\n",
       "  </tbody>\n",
       "</table>\n",
       "</div>"
      ],
      "text/plain": [
       "       time     HR_mean  TEMP_mean  participant_id  class_id\n",
       "0  09:20:00  101.968507  18.796667               1         1\n",
       "1  09:25:00  112.202900  18.799200               1         1\n",
       "2  09:30:00  110.074467  18.782200               1         1\n",
       "3  09:35:00  124.705167  18.653233               1         1"
      ]
     },
     "execution_count": 29,
     "metadata": {},
     "output_type": "execute_result"
    }
   ],
   "source": [
    "test = sample_wearable(1, 1)\n",
    "test.head()"
   ]
  },
  {
   "cell_type": "markdown",
   "id": "1d40b966",
   "metadata": {},
   "source": [
    "## Load Data (Sample)"
   ]
  },
  {
   "cell_type": "code",
   "execution_count": null,
   "id": "04f60c49",
   "metadata": {},
   "outputs": [],
   "source": [
    "base_path = 'gs://project-abd/raw/class_wearable_data/'\n",
    "\n",
    "schema = types.StructType([\n",
    "    types.StructField('value', types.FloatType(), True),\n",
    "    types.StructField('Time', types.TimestampType(), True)\n",
    "])\n",
    "\n",
    "hr = spark.read.schema(schema).csv(base_path + '/1/*/HR.csv')\n",
    "temp = spark.read.schema(schema).csv(base_path + '/1/*/TEMP.csv')\n",
    "eda = spark.read.schema(schema).csv(base_path + '/1/*/EDA.csv')\n",
    "ibi = spark.read.schema(schema).csv(base_path + '/1/*/IBI.csv')\n",
    "bvp = spark.read.schema(schema).csv(base_path + '/1/*/BVP.csv')"
   ]
  },
  {
   "cell_type": "markdown",
   "id": "775ab70b",
   "metadata": {},
   "source": [
    "## Preprocess Data"
   ]
  },
  {
   "cell_type": "code",
   "execution_count": 57,
   "id": "94a2aef1",
   "metadata": {},
   "outputs": [],
   "source": [
    "def extract_id(df):\n",
    "    df = df.withColumn('class_id', F.regexp_extract(F.input_file_name(),r'class_wearable_data/(\\d+)/',1).cast('int'))\n",
    "    df = df.withColumn('participant_id', F.regexp_extract(F.input_file_name(),r'class_wearable_data/\\d+/(\\d+)/',1).cast('int'))\n",
    "    return df"
   ]
  },
  {
   "cell_type": "code",
   "execution_count": 58,
   "id": "7460d0db",
   "metadata": {},
   "outputs": [],
   "source": [
    "hr = extract_id(hr)\n",
    "temp = extract_id(temp)\n",
    "eda = extract_id(eda)\n",
    "ibi = extract_id(ibi)\n",
    "bvp = extract_id(bvp)"
   ]
  },
  {
   "cell_type": "code",
   "execution_count": 59,
   "id": "85e9a8c0",
   "metadata": {},
   "outputs": [
    {
     "name": "stderr",
     "output_type": "stream",
     "text": [
      "[Stage 6:>                                                          (0 + 1) / 1]\r"
     ]
    },
    {
     "name": "stdout",
     "output_type": "stream",
     "text": [
      "+-----+-------------------+--------+--------------+\n",
      "|value|               Time|class_id|participant_id|\n",
      "+-----+-------------------+--------+--------------+\n",
      "| NULL|               NULL|       1|            13|\n",
      "| 52.0|2025-06-01 09:22:39|       1|            13|\n",
      "| 52.0|2025-06-01 09:22:40|       1|            13|\n",
      "|53.33|2025-06-01 09:22:41|       1|            13|\n",
      "| 60.0|2025-06-01 09:22:42|       1|            13|\n",
      "+-----+-------------------+--------+--------------+\n",
      "only showing top 5 rows\n",
      "\n"
     ]
    },
    {
     "name": "stderr",
     "output_type": "stream",
     "text": [
      "                                                                                \r"
     ]
    }
   ],
   "source": [
    "hr.show(5)"
   ]
  },
  {
   "cell_type": "code",
   "execution_count": 60,
   "id": "33520f92",
   "metadata": {},
   "outputs": [],
   "source": [
    "def format_time(df):\n",
    "    return df.withColumn('time_format',\n",
    "                         F.date_format('Time','HH:mm:ss')).drop('Time')\n",
    "\n",
    "hr_time = format_time(hr)\n",
    "temp_time = format_time(temp)\n",
    "eda_time = format_time(eda)\n",
    "ibi_time = format_time(ibi)\n",
    "bvp_time = format_time(bvp)"
   ]
  },
  {
   "cell_type": "code",
   "execution_count": 62,
   "id": "6379785f",
   "metadata": {},
   "outputs": [
    {
     "name": "stderr",
     "output_type": "stream",
     "text": [
      "[Stage 8:>                                                          (0 + 1) / 1]\r"
     ]
    },
    {
     "name": "stdout",
     "output_type": "stream",
     "text": [
      "+-----+--------+--------------+-----------+\n",
      "|value|class_id|participant_id|time_format|\n",
      "+-----+--------+--------------+-----------+\n",
      "| NULL|       1|            13|       NULL|\n",
      "| 52.0|       1|            13|   09:22:39|\n",
      "| 52.0|       1|            13|   09:22:40|\n",
      "|53.33|       1|            13|   09:22:41|\n",
      "| 60.0|       1|            13|   09:22:42|\n",
      "+-----+--------+--------------+-----------+\n",
      "only showing top 5 rows\n",
      "\n"
     ]
    },
    {
     "name": "stderr",
     "output_type": "stream",
     "text": [
      "                                                                                \r"
     ]
    }
   ],
   "source": [
    "hr_time.show(5)"
   ]
  },
  {
   "cell_type": "code",
   "execution_count": 64,
   "id": "04074e7a",
   "metadata": {},
   "outputs": [],
   "source": [
    "def agg_sensor(df, alias):\n",
    "    return df.groupby('class_id', 'participant_id', F.window('time_format','5 minutes')\n",
    "                    ).agg(F.mean('value').alias(alias))\n",
    "\n",
    "hr_agg = agg_sensor(hr_time, 'hr_mean')\n",
    "temp_agg = agg_sensor(temp_time, 'temp_mean')\n",
    "eda_agg = agg_sensor(eda_time, 'eda_mean')\n",
    "ibi_agg = agg_sensor(ibi_time, 'ibi_mean')\n",
    "bvp_agg = agg_sensor(bvp_time, 'bvp_mean')"
   ]
  },
  {
   "cell_type": "code",
   "execution_count": 68,
   "id": "a219d9fc",
   "metadata": {},
   "outputs": [],
   "source": [
    "df_to_join = [hr_agg, temp_agg, eda_agg, ibi_agg, bvp_agg]\n",
    "df_join = reduce(lambda left,right:\n",
    "    left.join(right, on=\n",
    "              ['class_id',\n",
    "               'participant_id',\n",
    "               'window'], how='outer'),\n",
    "    df_to_join)"
   ]
  },
  {
   "cell_type": "code",
   "execution_count": 113,
   "id": "17508c69",
   "metadata": {},
   "outputs": [
    {
     "name": "stderr",
     "output_type": "stream",
     "text": [
      "[Stage 582:==================================================>    (20 + 2) / 22]\r"
     ]
    },
    {
     "name": "stdout",
     "output_type": "stream",
     "text": [
      "+--------+--------------+-----------+------------------+------------------+--------------------+-------------------+--------------------+\n",
      "|class_id|participant_id|time_format|           hr_mean|         temp_mean|            eda_mean|           ibi_mean|            bvp_mean|\n",
      "+--------+--------------+-----------+------------------+------------------+--------------------+-------------------+--------------------+\n",
      "|       1|             1|   09:20:00|101.96850751051262| 18.79666699303521|0.001454626731881...|0.46877134839693707|0.005812729376985872|\n",
      "|       1|             1|   09:25:00|112.20290006001791| 18.79920024236043|3.533424931811168...|0.38022567331790924| 0.01111510058719432|\n",
      "|       1|             1|   09:30:00|110.07446683247885|18.782200450897218|3.661524929339066E-4| 0.3854343295097351|-0.01442968695181...|\n",
      "|       1|             1|   09:35:00| 124.7051665242513| 18.65323377609253|2.006899961270392E-4|0.38790275516668205|6.333332597084033E-4|\n",
      "|       1|             2|   09:20:00|103.59137417159917|18.808865675689482|5.271010639984822E-4|0.44533251225948334| 6.02816501739666E-4|\n",
      "+--------+--------------+-----------+------------------+------------------+--------------------+-------------------+--------------------+\n",
      "only showing top 5 rows\n",
      "\n"
     ]
    },
    {
     "name": "stderr",
     "output_type": "stream",
     "text": [
      "                                                                                \r"
     ]
    }
   ],
   "source": [
    "final_df = df_join.withColumn('time', F.col('window').start).withColumn('time_format', F.date_format('time', 'HH:mm:ss')) \\\n",
    "    .select('class_id', 'participant_id', 'time_format','hr_mean', 'temp_mean', 'eda_mean', 'ibi_mean', 'bvp_mean'\n",
    ").orderBy('class_id', 'participant_id', 'time')\n",
    "\n",
    "final_df.show(5)"
   ]
  },
  {
   "cell_type": "code",
   "execution_count": 116,
   "id": "f8899cad",
   "metadata": {},
   "outputs": [
    {
     "name": "stderr",
     "output_type": "stream",
     "text": [
      "                                                                                \r"
     ]
    }
   ],
   "source": [
    "final_df.coalesce(1).write.option(\"header\", True).mode('overwrite').csv(\"/home/Bagas/project/dataset/fisiology_output\")"
   ]
  },
  {
   "cell_type": "markdown",
   "id": "964ed764",
   "metadata": {},
   "source": [
    "## EDA "
   ]
  },
  {
   "cell_type": "code",
   "execution_count": 73,
   "id": "2d199405",
   "metadata": {},
   "outputs": [
    {
     "name": "stderr",
     "output_type": "stream",
     "text": [
      "25/06/01 15:30:52 WARN SparkStringUtils: Truncated the string representation of a plan since it was too large. This behavior can be adjusted by setting 'spark.sql.debug.maxToStringFields'.\n",
      "                                                                                \r"
     ]
    },
    {
     "name": "stdout",
     "output_type": "stream",
     "text": [
      "+-------+------------------+------------------+--------------------+-------------------+--------------------+\n",
      "|summary|           hr_mean|         temp_mean|            eda_mean|           ibi_mean|            bvp_mean|\n",
      "+-------+------------------+------------------+--------------------+-------------------+--------------------+\n",
      "|  count|                88|                88|                  88|                 85|                  88|\n",
      "|   mean|120.17367245653077|19.112059755548245|0.003787398412975...| 0.4701122691957643|0.002871968805713...|\n",
      "| stddev| 18.63071445152118|0.3821711350907827|0.006773826399398207|0.06708573731285124| 0.02964958115521278|\n",
      "|    min| 90.62831892165462| 18.17183364868164|                 0.0| 0.3593914955854416| -0.0933947939867115|\n",
      "|    max|177.77219985961915|20.987748480790497| 0.02104522231966257| 0.6180616888650663| 0.09704513356102527|\n",
      "+-------+------------------+------------------+--------------------+-------------------+--------------------+\n",
      "\n"
     ]
    }
   ],
   "source": [
    "final_df.describe(['hr_mean', 'temp_mean', 'eda_mean', 'ibi_mean', 'bvp_mean']).show()"
   ]
  },
  {
   "cell_type": "code",
   "execution_count": 85,
   "id": "7e587ebf",
   "metadata": {},
   "outputs": [],
   "source": [
    "df_pd = final_df.toPandas()\n",
    "\n",
    "def tren_line(id,data) :\n",
    "    sns.lineplot(data=df_pd[df_pd['participant_id'] == {id}], x = df_pd['time_format'], y = df_pd[f'{data}']) \n",
    "    plt.title(f'Tren Line for {data} for participant {id}')\n",
    "    plt.show()"
   ]
  },
  {
   "cell_type": "code",
   "execution_count": 88,
   "id": "a6823223",
   "metadata": {},
   "outputs": [
    {
     "data": {
      "image/png": "[encoded data removed]",
      "text/plain": [
       "<Figure size 640x480 with 1 Axes>"
      ]
     },
     "metadata": {},
     "output_type": "display_data"
    }
   ],
   "source": [
    "tren_line(3, 'hr_mean')"
   ]
  },
  {
   "cell_type": "code",
   "execution_count": 84,
   "id": "d5913b23",
   "metadata": {},
   "outputs": [
    {
     "data": {
      "application/vnd.microsoft.datawrangler.viewer.v0+json": {
       "columns": [
        {
         "name": "index",
         "rawType": "object",
         "type": "string"
        },
        {
         "name": "hr_mean",
         "rawType": "float64",
         "type": "float"
        },
        {
         "name": "temp_mean",
         "rawType": "float64",
         "type": "float"
        },
        {
         "name": "eda_mean",
         "rawType": "float64",
         "type": "float"
        },
        {
         "name": "ibi_mean",
         "rawType": "float64",
         "type": "float"
        },
        {
         "name": "bvp_mean",
         "rawType": "float64",
         "type": "float"
        }
       ],
       "ref": "a2c69842-a9d1-459b-98d4-cc6f5fc434f1",
       "rows": [
        [
         "hr_mean",
         "1.0",
         "-0.16717169443490676",
         "-0.12797259527458466",
         "-0.3343287845387084",
         "-0.09561994746583126"
        ],
        [
         "temp_mean",
         "-0.16717169443490676",
         "1.0",
         "0.24898610527825468",
         "0.03597234386608405",
         "0.09952571086661348"
        ],
        [
         "eda_mean",
         "-0.12797259527458466",
         "0.24898610527825468",
         "1.0",
         "0.029342419869056235",
         "0.051065552509186186"
        ],
        [
         "ibi_mean",
         "-0.3343287845387084",
         "0.03597234386608405",
         "0.029342419869056235",
         "1.0",
         "0.030214386806820637"
        ],
        [
         "bvp_mean",
         "-0.09561994746583126",
         "0.09952571086661348",
         "0.051065552509186186",
         "0.030214386806820637",
         "1.0"
        ]
       ],
       "shape": {
        "columns": 5,
        "rows": 5
       }
      },
      "text/html": [
       "<div>\n",
       "<style scoped>\n",
       "    .dataframe tbody tr th:only-of-type {\n",
       "        vertical-align: middle;\n",
       "    }\n",
       "\n",
       "    .dataframe tbody tr th {\n",
       "        vertical-align: top;\n",
       "    }\n",
       "\n",
       "    .dataframe thead th {\n",
       "        text-align: right;\n",
       "    }\n",
       "</style>\n",
       "<table border=\"1\" class=\"dataframe\">\n",
       "  <thead>\n",
       "    <tr style=\"text-align: right;\">\n",
       "      <th></th>\n",
       "      <th>hr_mean</th>\n",
       "      <th>temp_mean</th>\n",
       "      <th>eda_mean</th>\n",
       "      <th>ibi_mean</th>\n",
       "      <th>bvp_mean</th>\n",
       "    </tr>\n",
       "  </thead>\n",
       "  <tbody>\n",
       "    <tr>\n",
       "      <th>hr_mean</th>\n",
       "      <td>1.000000</td>\n",
       "      <td>-0.167172</td>\n",
       "      <td>-0.127973</td>\n",
       "      <td>-0.334329</td>\n",
       "      <td>-0.095620</td>\n",
       "    </tr>\n",
       "    <tr>\n",
       "      <th>temp_mean</th>\n",
       "      <td>-0.167172</td>\n",
       "      <td>1.000000</td>\n",
       "      <td>0.248986</td>\n",
       "      <td>0.035972</td>\n",
       "      <td>0.099526</td>\n",
       "    </tr>\n",
       "    <tr>\n",
       "      <th>eda_mean</th>\n",
       "      <td>-0.127973</td>\n",
       "      <td>0.248986</td>\n",
       "      <td>1.000000</td>\n",
       "      <td>0.029342</td>\n",
       "      <td>0.051066</td>\n",
       "    </tr>\n",
       "    <tr>\n",
       "      <th>ibi_mean</th>\n",
       "      <td>-0.334329</td>\n",
       "      <td>0.035972</td>\n",
       "      <td>0.029342</td>\n",
       "      <td>1.000000</td>\n",
       "      <td>0.030214</td>\n",
       "    </tr>\n",
       "    <tr>\n",
       "      <th>bvp_mean</th>\n",
       "      <td>-0.095620</td>\n",
       "      <td>0.099526</td>\n",
       "      <td>0.051066</td>\n",
       "      <td>0.030214</td>\n",
       "      <td>1.000000</td>\n",
       "    </tr>\n",
       "  </tbody>\n",
       "</table>\n",
       "</div>"
      ],
      "text/plain": [
       "            hr_mean  temp_mean  eda_mean  ibi_mean  bvp_mean\n",
       "hr_mean    1.000000  -0.167172 -0.127973 -0.334329 -0.095620\n",
       "temp_mean -0.167172   1.000000  0.248986  0.035972  0.099526\n",
       "eda_mean  -0.127973   0.248986  1.000000  0.029342  0.051066\n",
       "ibi_mean  -0.334329   0.035972  0.029342  1.000000  0.030214\n",
       "bvp_mean  -0.095620   0.099526  0.051066  0.030214  1.000000"
      ]
     },
     "execution_count": 84,
     "metadata": {},
     "output_type": "execute_result"
    }
   ],
   "source": [
    "df_pd[['hr_mean', 'temp_mean', 'eda_mean', 'ibi_mean', 'bvp_mean']].corr()"
   ]
  },
  {
   "cell_type": "code",
   "execution_count": 104,
   "id": "14e90059",
   "metadata": {},
   "outputs": [
    {
     "name": "stderr",
     "output_type": "stream",
     "text": [
      "                                                                                \r"
     ]
    }
   ],
   "source": [
    "if not os.path.exists('/home/Bagas/project/dataset/fisiology'):\n",
    "    os.makedirs('/home/Bagas/project/dataset/fisiology')\n",
    "    \n",
    "final_df.write \\\n",
    "            .mode('overwrite') \\\n",
    "            .option('header', True) \\\n",
    "            .csv('/home/Bagas/project/dataset/fisiology')"
   ]
  },
  {
   "cell_type": "code",
   "execution_count": 117,
   "id": "7a77fb0f",
   "metadata": {},
   "outputs": [],
   "source": [
    "df_pd.to_csv('/home/Bagas/project/dataset/fisiology.csv')"
   ]
  }
 ],
 "metadata": {
  "kernelspec": {
   "display_name": "Python 3",
   "language": "python",
   "name": "python3"
  },
  "language_info": {
   "codemirror_mode": {
    "name": "ipython",
    "version": 3
   },
   "file_extension": ".py",
   "mimetype": "text/x-python",
   "name": "python",
   "nbconvert_exporter": "python",
   "pygments_lexer": "ipython3",
   "version": "3.13.3"
  }
 },
 "nbformat": 4,
 "nbformat_minor": 5
}
